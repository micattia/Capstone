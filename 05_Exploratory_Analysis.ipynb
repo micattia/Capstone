{
  "nbformat": 4,
  "nbformat_minor": 0,
  "metadata": {
    "colab": {
      "name": "Untitled6.ipynb",
      "version": "0.3.2",
      "provenance": [],
      "include_colab_link": true
    },
    "kernelspec": {
      "name": "python3",
      "display_name": "Python 3"
    }
  },
  "cells": [
    {
      "cell_type": "markdown",
      "metadata": {
        "id": "view-in-github",
        "colab_type": "text"
      },
      "source": [
        "<a href=\"https://colab.research.google.com/github/micattia/Capstone/blob/master/05_Exploratory_Analysis.ipynb\" target=\"_parent\"><img src=\"https://colab.research.google.com/assets/colab-badge.svg\" alt=\"Open In Colab\"/></a>"
      ]
    },
    {
      "cell_type": "code",
      "metadata": {
        "id": "YCYS7YnLcEac",
        "colab_type": "code",
        "colab": {}
      },
      "source": [
        "#loading required libraries \n",
        "#==========================\n",
        "from statsmodels.graphics.gofplots import qqplot\n",
        "import numpy as np\n",
        "import pandas as pd\n",
        "import matplotlib.pyplot as pyplot\n",
        "import seaborn as sns\n",
        "import plotly.plotly as py\n",
        "import plotly.figure_factory as ff\n",
        "%matplotlib inline\n",
        "pyplot.style.use('ggplot')"
      ],
      "execution_count": 0,
      "outputs": []
    },
    {
      "cell_type": "code",
      "metadata": {
        "id": "_-PZ-pXkc9bC",
        "colab_type": "code",
        "colab": {}
      },
      "source": [
        "#load Apple data \n",
        "linkAP1 = 'https://raw.githubusercontent.com/micattia/Capstone_Data/master/AppleFinalData.csv'\n",
        "dfAPPL = pd.read_csv(linkAP1)\n",
        "linkAP2 = 'https://raw.githubusercontent.com/micattia/Capstone_Data/master/AppleNewsStock.csv'\n",
        "dfAPPLnews = pd.read_csv(linkAP2)\n",
        "\n",
        "#load Microsoft data\n",
        "linkMS1 = 'https://raw.githubusercontent.com/micattia/Capstone_Data/master/MicrosoftFinalData.csv'\n",
        "dfMS = pd.read_csv(linkMS1)\n",
        "linkMS2 = 'https://raw.githubusercontent.com/micattia/Capstone_Data/master/MicrosoftNewsStock.csv'\n",
        "dfMSnews = pd.read_csv(linkMS2)\n",
        "\n",
        "# Changing Some column names for the Microsoft main data frame to:\n",
        "# 1- removed the space from the Adj Close column, so that it would not give errors with coding\n",
        "# 2- standarised all columns to start with caps lock.\n",
        "\n",
        "dfMS = dfMS.rename(index=str, columns={\"Adj Close\": \"Adj_Close\", \"compound\": \"Compound\", \"neg\": \"Neg\", \"neu\": \"Neu\", \"pos\": \"Pos\"})\n",
        "\n",
        "# Changing Some column names for the Apple main data frame to:\n",
        "# 1- removed the space from the Adj Close column, so that it would not give errors with coding\n",
        "# 2- standarised all columns to start with caps lock.\n",
        "\n",
        "dfAPPL = dfAPPL.rename(index=str, columns={\"Adj Close\": \"Adj_Close\", \"compound\": \"Compound\", \"neg\": \"Neg\", \"neu\": \"Neu\", \"pos\": \"Pos\"})"
      ],
      "execution_count": 0,
      "outputs": []
    },
    {
      "cell_type": "code",
      "metadata": {
        "id": "O2kWuBpVdLh8",
        "colab_type": "code",
        "outputId": "154a35a2-54ec-4f0e-eac1-fa01e346f91e",
        "colab": {
          "base_uri": "https://localhost:8080/",
          "height": 299
        }
      },
      "source": [
        "# CREATING A SUBSET OF MICROSOFT DATASET WITH ONLY TWO COLUMNS THE DATE AND ADJ_CLOSE\n",
        "# THE REASON FOR CREATING THIS DATA SET IS TO PLOT THE STOCK PRICE MOVEMENT OVER TIME \n",
        "# TO SEE HOW THE PRICE CHANGE IS GOING THROUGH THE TEN YEARS RANGE OF THE DATASET\n",
        "# The Graph shows the effect of the financial Crisys in 2008 on the Microsoft Stock \n",
        "\n",
        "# creating the dataframe with date column as the index\n",
        "dfMSind = pd.read_csv(linkMS1, index_col=\"Date\",usecols=[\"Date\",\"Adj Close\"])\n",
        "# renaming the adj close column name to remove the space\n",
        "dfMSind = dfMSind.rename(index=str,columns={\"Adj Close\": \"Adj_Close\"})\n",
        "#dfMSind.head()\n",
        "# creating the plot object with title and form parameters, then giving the X and Y labels\n",
        "ax = dfMSind.plot(title = \"Microsoft Stock Price Movement\",fontsize = 10)\n",
        "ax.set_xlabel(\"Date\")\n",
        "ax.set_ylabel(\"Adjusted Close\")\n",
        "pyplot.show()\n",
        "\n",
        "# code sample for Slicing the Dataset\n",
        "#ls = dfMS[[str('Date'),'Close','Open']]\n",
        "#ls = dfMSind[['Date','Adj_Close']]"
      ],
      "execution_count": 3,
      "outputs": [
        {
          "output_type": "display_data",
          "data": {
            "image/png": "[encoded data removed]",
            "text/plain": [
              "<Figure size 432x288 with 1 Axes>"
            ]
          },
          "metadata": {
            "tags": []
          }
        }
      ]
    },
    {
      "cell_type": "code",
      "metadata": {
        "id": "18EgGEDbdWqt",
        "colab_type": "code",
        "outputId": "e3769382-5982-46f3-d295-d90943b1c8a2",
        "colab": {
          "base_uri": "https://localhost:8080/",
          "height": 54
        }
      },
      "source": [
        "# THE STOCK PRICE MOVEMENT WAS VERY IMPORTANT AS IT SHOWS \n",
        "# HOW FAR THE STOCK PROCE REACHED AWAY FROM THE MEAN STARTING ON WHAT DATE\n",
        "# AND THAT WOULD HEALP TO REDUCE THE DATA BY SUBSETING THE DATA STARTING A SPECIFIC DATE \n",
        "# THIS IS A PART OF REMOVING THE OUTLIERS TRYING TO GET MOR NORMALIZED DATASET\n",
        "# THE PRICE MOVEMENT GRAPH SHOWS THAT BEST PERIOD IS BETEEN NOV 2008 AND NOV 12 2014\n",
        "\n",
        "# first getting the index of NOV 11 2014\n",
        "ar1 = np.where(dfMS[\"Date\"] == '11/12/2013')\n",
        "ar2 = np.where(dfMS[\"Date\"] == '11/26/2008')\n",
        "print(ar1)\n",
        "print(ar2)"
      ],
      "execution_count": 82,
      "outputs": [
        {
          "output_type": "stream",
          "text": [
            "(array([1748]),)\n",
            "(array([500]),)\n"
          ],
          "name": "stdout"
        }
      ]
    },
    {
      "cell_type": "code",
      "metadata": {
        "id": "Bd74BwxGdi6Q",
        "colab_type": "code",
        "outputId": "aa812924-51d9-4620-c599-11cfd6fe512e",
        "colab": {
          "base_uri": "https://localhost:8080/",
          "height": 206
        }
      },
      "source": [
        "# second: slicing the dataset From NOV 2008 till NOV 2014\n",
        "lsMS = dfMS[500:1748]\n",
        "lsMS.head()"
      ],
      "execution_count": 83,
      "outputs": [
        {
          "output_type": "execute_result",
          "data": {
            "text/html": [
              "<div>\n",
              "<style scoped>\n",
              "    .dataframe tbody tr th:only-of-type {\n",
              "        vertical-align: middle;\n",
              "    }\n",
              "\n",
              "    .dataframe tbody tr th {\n",
              "        vertical-align: top;\n",
              "    }\n",
              "\n",
              "    .dataframe thead th {\n",
              "        text-align: right;\n",
              "    }\n",
              "</style>\n",
              "<table border=\"1\" class=\"dataframe\">\n",
              "  <thead>\n",
              "    <tr style=\"text-align: right;\">\n",
              "      <th></th>\n",
              "      <th>Date</th>\n",
              "      <th>Open</th>\n",
              "      <th>High</th>\n",
              "      <th>Low</th>\n",
              "      <th>Close</th>\n",
              "      <th>Adj_Close</th>\n",
              "      <th>Compound</th>\n",
              "      <th>Neg</th>\n",
              "      <th>Neu</th>\n",
              "      <th>Pos</th>\n",
              "    </tr>\n",
              "  </thead>\n",
              "  <tbody>\n",
              "    <tr>\n",
              "      <th>500</th>\n",
              "      <td>11/26/2008</td>\n",
              "      <td>19.73</td>\n",
              "      <td>20.68</td>\n",
              "      <td>19.73</td>\n",
              "      <td>20.49</td>\n",
              "      <td>20.49</td>\n",
              "      <td>0.0000</td>\n",
              "      <td>0.0</td>\n",
              "      <td>0.000</td>\n",
              "      <td>0.000</td>\n",
              "    </tr>\n",
              "    <tr>\n",
              "      <th>501</th>\n",
              "      <td>11/28/2008</td>\n",
              "      <td>20.23</td>\n",
              "      <td>20.31</td>\n",
              "      <td>20.02</td>\n",
              "      <td>20.22</td>\n",
              "      <td>20.22</td>\n",
              "      <td>0.0000</td>\n",
              "      <td>0.0</td>\n",
              "      <td>0.000</td>\n",
              "      <td>0.000</td>\n",
              "    </tr>\n",
              "    <tr>\n",
              "      <th>502</th>\n",
              "      <td>12/1/2008</td>\n",
              "      <td>19.88</td>\n",
              "      <td>19.95</td>\n",
              "      <td>18.60</td>\n",
              "      <td>18.61</td>\n",
              "      <td>18.61</td>\n",
              "      <td>0.0000</td>\n",
              "      <td>0.0</td>\n",
              "      <td>0.000</td>\n",
              "      <td>0.000</td>\n",
              "    </tr>\n",
              "    <tr>\n",
              "      <th>503</th>\n",
              "      <td>12/2/2008</td>\n",
              "      <td>18.99</td>\n",
              "      <td>19.31</td>\n",
              "      <td>18.56</td>\n",
              "      <td>19.15</td>\n",
              "      <td>19.15</td>\n",
              "      <td>0.0000</td>\n",
              "      <td>0.0</td>\n",
              "      <td>0.000</td>\n",
              "      <td>0.000</td>\n",
              "    </tr>\n",
              "    <tr>\n",
              "      <th>504</th>\n",
              "      <td>12/3/2008</td>\n",
              "      <td>18.65</td>\n",
              "      <td>19.90</td>\n",
              "      <td>18.60</td>\n",
              "      <td>19.87</td>\n",
              "      <td>19.87</td>\n",
              "      <td>0.6369</td>\n",
              "      <td>0.0</td>\n",
              "      <td>0.828</td>\n",
              "      <td>0.172</td>\n",
              "    </tr>\n",
              "  </tbody>\n",
              "</table>\n",
              "</div>"
            ],
            "text/plain": [
              "           Date   Open   High    Low  ...  Compound  Neg    Neu    Pos\n",
              "500  11/26/2008  19.73  20.68  19.73  ...    0.0000  0.0  0.000  0.000\n",
              "501  11/28/2008  20.23  20.31  20.02  ...    0.0000  0.0  0.000  0.000\n",
              "502   12/1/2008  19.88  19.95  18.60  ...    0.0000  0.0  0.000  0.000\n",
              "503   12/2/2008  18.99  19.31  18.56  ...    0.0000  0.0  0.000  0.000\n",
              "504   12/3/2008  18.65  19.90  18.60  ...    0.6369  0.0  0.828  0.172\n",
              "\n",
              "[5 rows x 10 columns]"
            ]
          },
          "metadata": {
            "tags": []
          },
          "execution_count": 83
        }
      ]
    },
    {
      "cell_type": "code",
      "metadata": {
        "id": "RbSnTIaYdxqm",
        "colab_type": "code",
        "outputId": "5d5ff4f8-310f-43e7-e571-22f255ac9f07",
        "colab": {
          "base_uri": "https://localhost:8080/",
          "height": 35
        }
      },
      "source": [
        "# Check the number of Rows in the Microsoft dataset after after subsetting for 6 years only instead of 10 \n",
        "lsMS.shape"
      ],
      "execution_count": 84,
      "outputs": [
        {
          "output_type": "execute_result",
          "data": {
            "text/plain": [
              "(1248, 10)"
            ]
          },
          "metadata": {
            "tags": []
          },
          "execution_count": 84
        }
      ]
    },
    {
      "cell_type": "code",
      "metadata": {
        "id": "92mPTJeieMw9",
        "colab_type": "code",
        "outputId": "cff757c4-179b-4570-e659-48d892b06013",
        "colab": {
          "base_uri": "https://localhost:8080/",
          "height": 791
        }
      },
      "source": [
        "#Re-Test Normality again for Microsoft data set columns [Open]\n",
        "\n",
        "# Box Plot\n",
        "lsMS.boxplot( column =['Adj_Close'], grid = False) \n",
        "# q-q plot\n",
        "qqplot(lsMS.Adj_Close, line='s')\n",
        "pyplot.show()\n",
        "# histogram plot\n",
        "pyplot.hist(lsMS.Adj_Close)\n",
        "pyplot.show()"
      ],
      "execution_count": 85,
      "outputs": [
        {
          "output_type": "display_data",
          "data": {
            "image/png": "[encoded data removed]",
            "text/plain": [
              "<Figure size 432x288 with 1 Axes>"
            ]
          },
          "metadata": {
            "tags": []
          }
        },
        {
          "output_type": "display_data",
          "data": {
            "image/png": "[encoded data removed]",
            "text/plain": [
              "<Figure size 432x288 with 1 Axes>"
            ]
          },
          "metadata": {
            "tags": []
          }
        },
        {
          "output_type": "display_data",
          "data": {
            "image/png": "[encoded data removed]",
            "text/plain": [
              "<Figure size 432x288 with 1 Axes>"
            ]
          },
          "metadata": {
            "tags": []
          }
        }
      ]
    },
    {
      "cell_type": "code",
      "metadata": {
        "id": "OQEEM4x5gRPS",
        "colab_type": "code",
        "colab": {}
      },
      "source": [
        "# THE ABOVE SHOWS THAT AFTER SUBSETING THE DATA WE GOT A MORE NORMALISED DATA SET"
      ],
      "execution_count": 0,
      "outputs": []
    },
    {
      "cell_type": "code",
      "metadata": {
        "id": "arV9DvCAgeLX",
        "colab_type": "code",
        "colab": {}
      },
      "source": [
        "# RE-CHECKING THE OUTLIERS AFTER SUBSETTING THE DATA\n",
        "# Creating function to calculate the z-Score and get outliers\n",
        "\n",
        "def detect_outlier(data_1):\n",
        "    outliers= []\n",
        "    threshold=3\n",
        "    mean_1 = np.mean(data_1)\n",
        "    std_1 =np.std(data_1)\n",
        "    \n",
        "    \n",
        "    for y in data_1:\n",
        "        z_score= (y - mean_1)/std_1 \n",
        "        if np.abs(z_score) > threshold:\n",
        "            outliers.append(y)\n",
        "    #df_outliers.append(outliers)\n",
        "    return outliers"
      ],
      "execution_count": 0,
      "outputs": []
    },
    {
      "cell_type": "code",
      "metadata": {
        "id": "jAiL0UHJg9FE",
        "colab_type": "code",
        "colab": {
          "base_uri": "https://localhost:8080/",
          "height": 54
        },
        "outputId": "5eca5bb3-cb1e-4dec-b615-4a5c110c6b68"
      },
      "source": [
        "# Reuning the function for the columns that had outliers to see how subseting the dataset reduced the outliers\n",
        "\n",
        "outlier_datapoints = detect_outlier(lsMS.Pos)\n",
        "x = len(outlier_datapoints)\n",
        "k = 'In Microdoft Dataset The number of Outliers for the Pos Column is: ' + repr(x)\n",
        "print(k)\n",
        "\n",
        "outlier_datapoints1 = detect_outlier(lsMS.Neg)\n",
        "a = len(outlier_datapoints1)\n",
        "b = 'In Microdoft Dataset The number of Outliers for the Neg Column is: ' + repr(a)\n",
        "print(b)"
      ],
      "execution_count": 87,
      "outputs": [
        {
          "output_type": "stream",
          "text": [
            "In Microdoft Dataset The number of Outliers for the Pos Column is: 14\n",
            "In Microdoft Dataset The number of Outliers for the Neg Column is: 28\n"
          ],
          "name": "stdout"
        }
      ]
    },
    {
      "cell_type": "code",
      "metadata": {
        "id": "MRONVWfatK3x",
        "colab_type": "code",
        "colab": {}
      },
      "source": [
        "# TEST SHOWS THAT SUBSETTING THE DATA ENHANCED THE NORMALITY AND REDUCED THE NUMBER OF OUTLIERS"
      ],
      "execution_count": 0,
      "outputs": []
    },
    {
      "cell_type": "code",
      "metadata": {
        "id": "sch6_znwdQxl",
        "colab_type": "code",
        "outputId": "a46e3a07-59fd-48a2-d5e6-3d4b92dcc138",
        "colab": {
          "base_uri": "https://localhost:8080/",
          "height": 299
        }
      },
      "source": [
        "# CREATING A SUBSET OF APPLE DATASET WITH ONLY TWO COLUMNS THE DATE AND ADJ_CLOSE\n",
        "# THE REASON FOR CREATING THIS DATA SET IS TO PLOT THE STOCK PRICE MOVEMENT OVER TIME \n",
        "# TO SEE HOW THE PRICE CHANGE IS GOING THROUGH THE TEN YEARS RANGE OF THE DATASET\n",
        "\n",
        "# creating the dataframe with date column as the index\n",
        "dfAPPLind = pd.read_csv(linkAP1, index_col=\"Date\",usecols=[\"Date\",\"Adj Close\"])\n",
        "# renaming the adj close column name to remove the space\n",
        "dfAPPLind = dfAPPLind.rename(index=str,columns={\"Adj Close\": \"Adj_Close\"})\n",
        "#dfMSind.head()\n",
        "# creating the plot object with title and form parameters, then giving the X and Y labels\n",
        "ax = dfAPPLind.plot(title = \"Apple Stock Price Movement\",fontsize = 10, colormap = \"Blues_r\")\n",
        "ax.set_xlabel(\"Date\")\n",
        "ax.set_ylabel(\"Adjusted Close\")\n",
        "pyplot.show()"
      ],
      "execution_count": 72,
      "outputs": [
        {
          "output_type": "display_data",
          "data": {
            "image/png": "[encoded data removed]",
            "text/plain": [
              "<Figure size 432x288 with 1 Axes>"
            ]
          },
          "metadata": {
            "tags": []
          }
        }
      ]
    },
    {
      "cell_type": "code",
      "metadata": {
        "id": "31yRbKXHhxiD",
        "colab_type": "code",
        "colab": {
          "base_uri": "https://localhost:8080/",
          "height": 54
        },
        "outputId": "f4d5721f-5d7f-43d4-b3e7-5915ae52c70f"
      },
      "source": [
        "# Doing the same for Apple Data set\n",
        "# THE STOCK PRICE MOVEMENT WAS VERY IMPORTANT AS IT SHOWS \n",
        "# HOW FAR THE STOCK PROCE REACHED AWAY FROM THE MEAN STARTING ON WHAT DATE\n",
        "# AND THAT WOULD HEALP TO REDUCE THE DATA BY SUBSETING THE DATA STARTING A SPECIFIC DATE \n",
        "# THIS IS A PART OF REMOVING THE OUTLIERS TRYING TO GET MOR NORMALIZED DATASET\n",
        "# THE PRICE MOVEMENT GRAPH SHOWS THAT BEST PERIOD IS BETEEN NOV 2008 AND NOV 12 2014\n",
        "\n",
        "# first getting the index of the start date and end date\n",
        "ar1 = np.where(dfAPPL[\"Date\"] == '11/12/2013')\n",
        "ar2 = np.where(dfAPPL[\"Date\"] == '11/26/2008')\n",
        "print(ar1)\n",
        "print(ar2)"
      ],
      "execution_count": 107,
      "outputs": [
        {
          "output_type": "stream",
          "text": [
            "(array([1748]),)\n",
            "(array([500]),)\n"
          ],
          "name": "stdout"
        }
      ]
    },
    {
      "cell_type": "code",
      "metadata": {
        "id": "z20FsMLzn8GH",
        "colab_type": "code",
        "colab": {
          "base_uri": "https://localhost:8080/",
          "height": 206
        },
        "outputId": "f0bba7af-611f-4a49-becc-ed46165a82c8"
      },
      "source": [
        "# second: slicing the dataset From NOV 2008 till NOV 2014\n",
        "lsAPPL = dfAPPL[500:1748]\n",
        "lsAPPL.head()"
      ],
      "execution_count": 108,
      "outputs": [
        {
          "output_type": "execute_result",
          "data": {
            "text/html": [
              "<div>\n",
              "<style scoped>\n",
              "    .dataframe tbody tr th:only-of-type {\n",
              "        vertical-align: middle;\n",
              "    }\n",
              "\n",
              "    .dataframe tbody tr th {\n",
              "        vertical-align: top;\n",
              "    }\n",
              "\n",
              "    .dataframe thead th {\n",
              "        text-align: right;\n",
              "    }\n",
              "</style>\n",
              "<table border=\"1\" class=\"dataframe\">\n",
              "  <thead>\n",
              "    <tr style=\"text-align: right;\">\n",
              "      <th></th>\n",
              "      <th>Date</th>\n",
              "      <th>Open</th>\n",
              "      <th>High</th>\n",
              "      <th>Low</th>\n",
              "      <th>Close</th>\n",
              "      <th>Adj_Close</th>\n",
              "      <th>Compound</th>\n",
              "      <th>Neg</th>\n",
              "      <th>Neu</th>\n",
              "      <th>Pos</th>\n",
              "    </tr>\n",
              "  </thead>\n",
              "  <tbody>\n",
              "    <tr>\n",
              "      <th>500</th>\n",
              "      <td>11/26/2008</td>\n",
              "      <td>12.8457</td>\n",
              "      <td>13.6071</td>\n",
              "      <td>12.8357</td>\n",
              "      <td>95.00</td>\n",
              "      <td>13.5714</td>\n",
              "      <td>0.9668</td>\n",
              "      <td>0.041</td>\n",
              "      <td>0.843</td>\n",
              "      <td>0.116</td>\n",
              "    </tr>\n",
              "    <tr>\n",
              "      <th>501</th>\n",
              "      <td>11/28/2008</td>\n",
              "      <td>13.5286</td>\n",
              "      <td>13.5371</td>\n",
              "      <td>13.1229</td>\n",
              "      <td>92.67</td>\n",
              "      <td>13.2386</td>\n",
              "      <td>0.9890</td>\n",
              "      <td>0.028</td>\n",
              "      <td>0.773</td>\n",
              "      <td>0.199</td>\n",
              "    </tr>\n",
              "    <tr>\n",
              "      <th>502</th>\n",
              "      <td>12/1/2008</td>\n",
              "      <td>13.0429</td>\n",
              "      <td>13.1814</td>\n",
              "      <td>12.7029</td>\n",
              "      <td>88.93</td>\n",
              "      <td>12.7043</td>\n",
              "      <td>0.9839</td>\n",
              "      <td>0.046</td>\n",
              "      <td>0.818</td>\n",
              "      <td>0.137</td>\n",
              "    </tr>\n",
              "    <tr>\n",
              "      <th>503</th>\n",
              "      <td>12/2/2008</td>\n",
              "      <td>12.8614</td>\n",
              "      <td>13.2357</td>\n",
              "      <td>12.3571</td>\n",
              "      <td>92.47</td>\n",
              "      <td>13.2100</td>\n",
              "      <td>0.8132</td>\n",
              "      <td>0.103</td>\n",
              "      <td>0.765</td>\n",
              "      <td>0.132</td>\n",
              "    </tr>\n",
              "    <tr>\n",
              "      <th>504</th>\n",
              "      <td>12/3/2008</td>\n",
              "      <td>12.7714</td>\n",
              "      <td>13.7471</td>\n",
              "      <td>12.6857</td>\n",
              "      <td>95.90</td>\n",
              "      <td>13.7000</td>\n",
              "      <td>0.0000</td>\n",
              "      <td>0.000</td>\n",
              "      <td>0.000</td>\n",
              "      <td>0.000</td>\n",
              "    </tr>\n",
              "  </tbody>\n",
              "</table>\n",
              "</div>"
            ],
            "text/plain": [
              "           Date     Open     High      Low  ...  Compound    Neg    Neu    Pos\n",
              "500  11/26/2008  12.8457  13.6071  12.8357  ...    0.9668  0.041  0.843  0.116\n",
              "501  11/28/2008  13.5286  13.5371  13.1229  ...    0.9890  0.028  0.773  0.199\n",
              "502   12/1/2008  13.0429  13.1814  12.7029  ...    0.9839  0.046  0.818  0.137\n",
              "503   12/2/2008  12.8614  13.2357  12.3571  ...    0.8132  0.103  0.765  0.132\n",
              "504   12/3/2008  12.7714  13.7471  12.6857  ...    0.0000  0.000  0.000  0.000\n",
              "\n",
              "[5 rows x 10 columns]"
            ]
          },
          "metadata": {
            "tags": []
          },
          "execution_count": 108
        }
      ]
    },
    {
      "cell_type": "code",
      "metadata": {
        "id": "Zt6Gej1GoAOA",
        "colab_type": "code",
        "colab": {
          "base_uri": "https://localhost:8080/",
          "height": 35
        },
        "outputId": "45183e98-165d-4f0a-bea3-09350f4949fb"
      },
      "source": [
        "# Check the number of Rows in the Microsoft dataset after after subsetting for 6 years only instead of 10 \n",
        "lsAPPL.shape"
      ],
      "execution_count": 109,
      "outputs": [
        {
          "output_type": "execute_result",
          "data": {
            "text/plain": [
              "(1248, 10)"
            ]
          },
          "metadata": {
            "tags": []
          },
          "execution_count": 109
        }
      ]
    },
    {
      "cell_type": "code",
      "metadata": {
        "id": "Uzx--eRXoDuu",
        "colab_type": "code",
        "colab": {
          "base_uri": "https://localhost:8080/",
          "height": 791
        },
        "outputId": "fa4a3c24-7331-4557-a13c-c15924a977a1"
      },
      "source": [
        "#Re-Test Normality again for Microsoft data set columns [Open]\n",
        "\n",
        "# Box Plot\n",
        "lsAPPL.boxplot( column =['Adj_Close'], grid = False) \n",
        "# q-q plot\n",
        "qqplot(lsAPPL.Adj_Close, line='s')\n",
        "pyplot.show()\n",
        "# histogram plot\n",
        "pyplot.hist(lsAPPL.Adj_Close)\n",
        "pyplot.show()"
      ],
      "execution_count": 110,
      "outputs": [
        {
          "output_type": "display_data",
          "data": {
            "image/png": "[encoded data removed]",
            "text/plain": [
              "<Figure size 432x288 with 1 Axes>"
            ]
          },
          "metadata": {
            "tags": []
          }
        },
        {
          "output_type": "display_data",
          "data": {
            "image/png": "[encoded data removed]",
            "text/plain": [
              "<Figure size 432x288 with 1 Axes>"
            ]
          },
          "metadata": {
            "tags": []
          }
        },
        {
          "output_type": "display_data",
          "data": {
            "image/png": "[encoded data removed]",
            "text/plain": [
              "<Figure size 432x288 with 1 Axes>"
            ]
          },
          "metadata": {
            "tags": []
          }
        }
      ]
    },
    {
      "cell_type": "code",
      "metadata": {
        "id": "x-CVQ733oJ2W",
        "colab_type": "code",
        "colab": {
          "base_uri": "https://localhost:8080/",
          "height": 72
        },
        "outputId": "bc884a90-e474-4c32-ff77-88a9c18d1365"
      },
      "source": [
        "# Reuning the function for the columns that had outliers to see how subseting the dataset reduced the outliers\n",
        "\n",
        "outlier_datapoints = detect_outlier(lsAPPL.Pos)\n",
        "x = len(outlier_datapoints)\n",
        "k = 'In APPLE Dataset The number of Outliers for the Pos Column is: ' + repr(x)\n",
        "print(k)\n",
        "\n",
        "outlier_datapoints = detect_outlier(lsAPPL.Neu)\n",
        "m = len(outlier_datapoints)\n",
        "n = 'In APPLE Dataset The number of Outliers for the Neutral Column is: ' + repr(m)\n",
        "print(n)\n",
        "\n",
        "outlier_datapoints1 = detect_outlier(lsAPPL.Neg)\n",
        "a = len(outlier_datapoints1)\n",
        "b = 'In APPLE Dataset The number of Outliers for the Neg Column is: ' + repr(a)\n",
        "print(b)"
      ],
      "execution_count": 111,
      "outputs": [
        {
          "output_type": "stream",
          "text": [
            "In APPLE Dataset The number of Outliers for the Pos Column is: 3\n",
            "In APPLE Dataset The number of Outliers for the Neutral Column is: 91\n",
            "In APPLE Dataset The number of Outliers for the Neg Column is: 14\n"
          ],
          "name": "stdout"
        }
      ]
    },
    {
      "cell_type": "code",
      "metadata": {
        "id": "hUsjgyvWtY7Q",
        "colab_type": "code",
        "colab": {}
      },
      "source": [
        "# TEST SHOWS THAT SUBSETTING THE DATA ENHANCED THE NORMALITY AND REDUCED THE NUMBER OF OUTLIERS"
      ],
      "execution_count": 0,
      "outputs": []
    }
  ]
}