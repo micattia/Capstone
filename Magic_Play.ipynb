{
  "nbformat": 4,
  "nbformat_minor": 0,
  "metadata": {
    "colab": {
      "name": "Untitled3.ipynb",
      "version": "0.3.2",
      "provenance": [],
      "include_colab_link": true
    },
    "kernelspec": {
      "name": "python3",
      "display_name": "Python 3"
    }
  },
  "cells": [
    {
      "cell_type": "markdown",
      "metadata": {
        "id": "view-in-github",
        "colab_type": "text"
      },
      "source": [
        "<a href=\"https://colab.research.google.com/github/micattia/Capstone/blob/master/Magic_Play.ipynb\" target=\"_parent\"><img src=\"https://colab.research.google.com/assets/colab-badge.svg\" alt=\"Open In Colab\"/></a>"
      ]
    },
    {
      "cell_type": "code",
      "metadata": {
        "id": "Vr2g2ixaq2U4",
        "colab_type": "code",
        "colab": {}
      },
      "source": [
        "\n",
        "#text = 'value' #@param {type:\"string\"}\n",
        "#dropdown = '2nd option' #@param [\"1st option\", \"2nd option\", \"3rd option\"]\n",
        "#text_and_dropdown = 'value' #@param [\"1st option\", \"2nd option\", \"3rd option\"] {allow-input: true}\n",
        "\n",
        "Stock = 'Apple' #@param [\"Microsoft\", \"Apple\"]\n",
        "Model = 'Linear Regression' #@param [\"Linear Regression\", \"KNN Regression\"]\n",
        "Open_n = 0.00 #@param {type:\"number\",allow-input: true}\n",
        "High_n = 0.00 #@param {type:\"number\",allow-input: true}\n",
        "Low_n = 0.00 #@param {type:\"number\",allow-input: true}\n"
      ],
      "execution_count": 0,
      "outputs": []
    }
  ]
}