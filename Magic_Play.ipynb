{
  "nbformat": 4,
  "nbformat_minor": 0,
  "metadata": {
    "colab": {
      "name": "Untitled3.ipynb",
      "version": "0.3.2",
      "provenance": [],
      "include_colab_link": true
    },
    "kernelspec": {
      "name": "python3",
      "display_name": "Python 3"
    }
  },
  "cells": [
    {
      "cell_type": "markdown",
      "metadata": {
        "id": "view-in-github",
        "colab_type": "text"
      },
      "source": [
        "<a href=\"https://colab.research.google.com/github/micattia/Capstone/blob/master/Magic_Play.ipynb\" target=\"_parent\"><img src=\"https://colab.research.google.com/assets/colab-badge.svg\" alt=\"Open In Colab\"/></a>"
      ]
    },
    {
      "cell_type": "code",
      "metadata": {
        "id": "6sKTe4rs4dhr",
        "colab_type": "code",
        "cellView": "form",
        "colab": {}
      },
      "source": [
        "#@title Load Required Libraries \n",
        "#loading required libraries \n",
        "#==========================\n",
        "from statsmodels.graphics.gofplots import qqplot\n",
        "import numpy as np\n",
        "import pandas as pd\n",
        "import matplotlib.pyplot as plt\n",
        "import seaborn as sns\n",
        "import plotly.plotly as py\n",
        "import plotly.figure_factory as ff\n",
        "%matplotlib inline\n",
        "\n",
        "plt.style.use('ggplot')"
      ],
      "execution_count": 0,
      "outputs": []
    },
    {
      "cell_type": "code",
      "metadata": {
        "id": "3DiW0Bxz5sPG",
        "colab_type": "code",
        "cellView": "form",
        "colab": {}
      },
      "source": [
        "#@title Load Data Sets\n",
        "#load Apple data \n",
        "linkAP1 = 'https://raw.githubusercontent.com/micattia/Capstone_Data/master/AppleFinalData.csv'\n",
        "dfAPPL = pd.read_csv(linkAP1)\n",
        "linkAP2 = 'https://raw.githubusercontent.com/micattia/Capstone_Data/master/AppleNewsStock.csv'\n",
        "dfAPPLnews = pd.read_csv(linkAP2)\n",
        "\n",
        "#load Microsoft data\n",
        "linkMS1 = 'https://raw.githubusercontent.com/micattia/Capstone_Data/master/MicrosoftFinalData.csv'\n",
        "dfMS = pd.read_csv(linkMS1)\n",
        "linkMS2 = 'https://raw.githubusercontent.com/micattia/Capstone_Data/master/MicrosoftNewsStock.csv'\n",
        "dfMSnews = pd.read_csv(linkMS2)\n",
        "\n",
        "# Changing Some column names for the Microsoft main data frame to:\n",
        "# 1- removed the space from the Adj Close column, so that it would not give errors with coding\n",
        "# 2- standarised all columns to start with caps lock.\n",
        "\n",
        "dfMS = dfMS.rename(index=str, columns={\"Adj Close\": \"Adj_Close\", \"compound\": \"Compound\", \"neg\": \"Neg\", \"neu\": \"Neu\", \"pos\": \"Pos\"})\n",
        "\n",
        "# Changing Some column names for the Apple main data frame to:\n",
        "# 1- removed the space from the Adj Close column, so that it would not give errors with coding\n",
        "# 2- standarised all columns to start with caps lock.\n",
        "\n",
        "dfAPPL = dfAPPL.rename(index=str, columns={\"Adj Close\": \"Adj_Close\", \"compound\": \"Compound\", \"neg\": \"Neg\", \"neu\": \"Neu\", \"pos\": \"Pos\"})"
      ],
      "execution_count": 0,
      "outputs": []
    },
    {
      "cell_type": "code",
      "metadata": {
        "id": "Vr2g2ixaq2U4",
        "colab_type": "code",
        "colab": {},
        "cellView": "form"
      },
      "source": [
        "\n",
        "#text = 'value' #@param {type:\"string\"}\n",
        "#dropdown = '2nd option' #@param [\"1st option\", \"2nd option\", \"3rd option\"]\n",
        "#text_and_dropdown = 'value' #@param [\"1st option\", \"2nd option\", \"3rd option\"] {allow-input: true}\n",
        "\n",
        "Stock = 'Apple' #@param [\"Microsoft\", \"Apple\"]\n",
        "Model = 'Linear Regression' #@param [\"Linear Regression\", \"KNN Regression\"]\n",
        "Include_Sentiment = True #@param {type:\"boolean\"}\n",
        "Open_n = 0.00 #@param {type:\"number\",allow-input: true}\n",
        "High_n = 0.00 #@param {type:\"number\",allow-input: true}\n",
        "Low_n = 0.00 #@param {type:\"number\",allow-input: true}\n",
        "Compound = 0 #@param {type:\"slider\", min:-1, max:1, step:0.001}\n",
        "Negative = 0 #@param {type:\"slider\", min:-1, max:1, step:0.001}\n",
        "Neutral = 0 #@param {type:\"slider\", min:-1, max:1, step:0.001}\n",
        "Positive = 0 #@param {type:\"slider\", min:-1, max:1, step:0.001}\n",
        "\n"
      ],
      "execution_count": 0,
      "outputs": []
    }
  ]
}