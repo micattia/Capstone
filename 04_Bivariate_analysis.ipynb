{
  "nbformat": 4,
  "nbformat_minor": 0,
  "metadata": {
    "colab": {
      "name": "Untitled4.ipynb",
      "version": "0.3.2",
      "provenance": [],
      "include_colab_link": true
    },
    "kernelspec": {
      "name": "python3",
      "display_name": "Python 3"
    }
  },
  "cells": [
    {
      "cell_type": "markdown",
      "metadata": {
        "id": "view-in-github",
        "colab_type": "text"
      },
      "source": [
        "<a href=\"https://colab.research.google.com/github/micattia/Capstone/blob/master/04_Bivariate_analysis.ipynb\" target=\"_parent\"><img src=\"https://colab.research.google.com/assets/colab-badge.svg\" alt=\"Open In Colab\"/></a>"
      ]
    },
    {
      "cell_type": "code",
      "metadata": {
        "id": "HsoHUx6iwhfU",
        "colab_type": "code",
        "colab": {}
      },
      "source": [
        "#load pandas component for data science\n",
        "import pandas as pd\n",
        "\n",
        "#load Apple data \n",
        "linkAP1 = 'https://raw.githubusercontent.com/micattia/Capstone/master/AppleFinalData.csv'\n",
        "dfAPPL = pd.read_csv(linkAP1)\n",
        "linkAP2 = 'https://raw.githubusercontent.com/micattia/Capstone/master/AppleNewsStock.csv'\n",
        "dfAPPLnews = pd.read_csv(linkAP2)\n",
        "\n",
        "#load Microsoft data\n",
        "linkMS1 = 'https://raw.githubusercontent.com/micattia/Capstone/master/MicrosoftFinalData.csv'\n",
        "dfMS = pd.read_csv(linkMS1)\n",
        "linkMS2 = 'https://raw.githubusercontent.com/micattia/Capstone/master/MicrosoftNewsStock.csv'\n",
        "dfMSnews = pd.read_csv(linkMS2)\n",
        "\n",
        "# Changing Some column names for the Microsoft main data frame to:\n",
        "# 1- removed the space from the Adj Close column, so that it would not give errors with coding\n",
        "# 2- standarised all columns to start with caps lock.\n",
        "\n",
        "dfMS = dfMS.rename(index=str, columns={\"Adj Close\": \"Adj_Close\", \"compound\": \"Compound\", \"neg\": \"Neg\", \"neu\": \"Neu\", \"pos\": \"Pos\"})\n",
        "\n",
        "# Changing Some column names for the Apple main data frame to:\n",
        "# 1- removed the space from the Adj Close column, so that it would not give errors with coding\n",
        "# 2- standarised all columns to start with caps lock.\n",
        "\n",
        "dfAPPL = dfAPPL.rename(index=str, columns={\"Adj Close\": \"Adj_Close\", \"compound\": \"Compound\", \"neg\": \"Neg\", \"neu\": \"Neu\", \"pos\": \"Pos\"})\n",
        "\n"
      ],
      "execution_count": 0,
      "outputs": []
    },
    {
      "cell_type": "code",
      "metadata": {
        "id": "cpsveieew2ms",
        "colab_type": "code",
        "colab": {}
      },
      "source": [
        "#loading required libraries \n",
        "#==========================\n",
        "from statsmodels.graphics.gofplots import qqplot\n",
        "import numpy as np\n",
        "import pandas as pd\n",
        "import matplotlib.pyplot as pyplot\n",
        "import seaborn as sns"
      ],
      "execution_count": 0,
      "outputs": []
    },
    {
      "cell_type": "code",
      "metadata": {
        "id": "lyCHUECax8eM",
        "colab_type": "code",
        "colab": {
          "base_uri": "https://localhost:8080/",
          "height": 206
        },
        "outputId": "e0bf60a8-f9f8-41c9-c744-53f7a1a35935"
      },
      "source": [
        "dfMS.head()"
      ],
      "execution_count": 4,
      "outputs": [
        {
          "output_type": "execute_result",
          "data": {
            "text/html": [
              "<div>\n",
              "<style scoped>\n",
              "    .dataframe tbody tr th:only-of-type {\n",
              "        vertical-align: middle;\n",
              "    }\n",
              "\n",
              "    .dataframe tbody tr th {\n",
              "        vertical-align: top;\n",
              "    }\n",
              "\n",
              "    .dataframe thead th {\n",
              "        text-align: right;\n",
              "    }\n",
              "</style>\n",
              "<table border=\"1\" class=\"dataframe\">\n",
              "  <thead>\n",
              "    <tr style=\"text-align: right;\">\n",
              "      <th></th>\n",
              "      <th>Date</th>\n",
              "      <th>Open</th>\n",
              "      <th>High</th>\n",
              "      <th>Low</th>\n",
              "      <th>Close</th>\n",
              "      <th>Adj_Close</th>\n",
              "      <th>Compound</th>\n",
              "      <th>Neg</th>\n",
              "      <th>Neu</th>\n",
              "      <th>Pos</th>\n",
              "    </tr>\n",
              "  </thead>\n",
              "  <tbody>\n",
              "    <tr>\n",
              "      <th>0</th>\n",
              "      <td>12/1/2006</td>\n",
              "      <td>29.23</td>\n",
              "      <td>29.30</td>\n",
              "      <td>28.90</td>\n",
              "      <td>29.12</td>\n",
              "      <td>29.12</td>\n",
              "      <td>0.0000</td>\n",
              "      <td>0.000</td>\n",
              "      <td>0.000</td>\n",
              "      <td>0.000</td>\n",
              "    </tr>\n",
              "    <tr>\n",
              "      <th>1</th>\n",
              "      <td>12/4/2006</td>\n",
              "      <td>29.23</td>\n",
              "      <td>29.52</td>\n",
              "      <td>29.17</td>\n",
              "      <td>29.33</td>\n",
              "      <td>29.33</td>\n",
              "      <td>-0.7783</td>\n",
              "      <td>0.137</td>\n",
              "      <td>0.863</td>\n",
              "      <td>0.000</td>\n",
              "    </tr>\n",
              "    <tr>\n",
              "      <th>2</th>\n",
              "      <td>12/5/2006</td>\n",
              "      <td>29.36</td>\n",
              "      <td>29.40</td>\n",
              "      <td>29.03</td>\n",
              "      <td>29.13</td>\n",
              "      <td>29.13</td>\n",
              "      <td>0.0000</td>\n",
              "      <td>0.000</td>\n",
              "      <td>0.000</td>\n",
              "      <td>0.000</td>\n",
              "    </tr>\n",
              "    <tr>\n",
              "      <th>3</th>\n",
              "      <td>12/6/2006</td>\n",
              "      <td>29.10</td>\n",
              "      <td>29.13</td>\n",
              "      <td>28.87</td>\n",
              "      <td>28.99</td>\n",
              "      <td>28.99</td>\n",
              "      <td>0.9003</td>\n",
              "      <td>0.051</td>\n",
              "      <td>0.847</td>\n",
              "      <td>0.102</td>\n",
              "    </tr>\n",
              "    <tr>\n",
              "      <th>4</th>\n",
              "      <td>12/7/2006</td>\n",
              "      <td>28.96</td>\n",
              "      <td>29.07</td>\n",
              "      <td>28.81</td>\n",
              "      <td>28.85</td>\n",
              "      <td>28.85</td>\n",
              "      <td>0.6597</td>\n",
              "      <td>0.000</td>\n",
              "      <td>0.810</td>\n",
              "      <td>0.190</td>\n",
              "    </tr>\n",
              "  </tbody>\n",
              "</table>\n",
              "</div>"
            ],
            "text/plain": [
              "        Date   Open   High    Low  ...  Compound    Neg    Neu    Pos\n",
              "0  12/1/2006  29.23  29.30  28.90  ...    0.0000  0.000  0.000  0.000\n",
              "1  12/4/2006  29.23  29.52  29.17  ...   -0.7783  0.137  0.863  0.000\n",
              "2  12/5/2006  29.36  29.40  29.03  ...    0.0000  0.000  0.000  0.000\n",
              "3  12/6/2006  29.10  29.13  28.87  ...    0.9003  0.051  0.847  0.102\n",
              "4  12/7/2006  28.96  29.07  28.81  ...    0.6597  0.000  0.810  0.190\n",
              "\n",
              "[5 rows x 10 columns]"
            ]
          },
          "metadata": {
            "tags": []
          },
          "execution_count": 4
        }
      ]
    },
    {
      "cell_type": "code",
      "metadata": {
        "id": "ox1bq23Zxv8_",
        "colab_type": "code",
        "colab": {
          "base_uri": "https://localhost:8080/",
          "height": 301
        },
        "outputId": "a706a7f6-8898-449a-c55c-d1273f15e080"
      },
      "source": [
        "dfMS.plot.scatter(x='Close',y='Adj_Close')"
      ],
      "execution_count": 6,
      "outputs": [
        {
          "output_type": "execute_result",
          "data": {
            "text/plain": [
              "<matplotlib.axes._subplots.AxesSubplot at 0x7f3a998c3f28>"
            ]
          },
          "metadata": {
            "tags": []
          },
          "execution_count": 6
        },
        {
          "output_type": "display_data",
          "data": {
            "image/png": "[encoded data removed]",
            "text/plain": [
              "<Figure size 432x288 with 1 Axes>"
            ]
          },
          "metadata": {
            "tags": []
          }
        }
      ]
    },
    {
      "cell_type": "code",
      "metadata": {
        "id": "ypli2kPy1CYG",
        "colab_type": "code",
        "colab": {
          "base_uri": "https://localhost:8080/",
          "height": 209
        },
        "outputId": "e277417a-a792-430a-89ff-857582f22879"
      },
      "source": [
        "ls = dfMS[[Close,Open]]\n",
        "\n",
        "#ls = dfMS.iloc[:,0:3]\n"
      ],
      "execution_count": 51,
      "outputs": [
        {
          "output_type": "error",
          "ename": "NameError",
          "evalue": "ignored",
          "traceback": [
            "\u001b[0;31m---------------------------------------------------------------------------\u001b[0m",
            "\u001b[0;31mNameError\u001b[0m                                 Traceback (most recent call last)",
            "\u001b[0;32m<ipython-input-51-35ef83f2c3e1>\u001b[0m in \u001b[0;36m<module>\u001b[0;34m()\u001b[0m\n\u001b[0;32m----> 1\u001b[0;31m \u001b[0mls\u001b[0m \u001b[0;34m=\u001b[0m \u001b[0mdfMS\u001b[0m\u001b[0;34m[\u001b[0m\u001b[0;34m[\u001b[0m\u001b[0mClose\u001b[0m\u001b[0;34m,\u001b[0m\u001b[0mOpen\u001b[0m\u001b[0;34m]\u001b[0m\u001b[0;34m]\u001b[0m\u001b[0;34m\u001b[0m\u001b[0;34m\u001b[0m\u001b[0m\n\u001b[0m\u001b[1;32m      2\u001b[0m \u001b[0;34m\u001b[0m\u001b[0m\n\u001b[1;32m      3\u001b[0m \u001b[0;31m#ls = dfMS.iloc[:,0:3]\u001b[0m\u001b[0;34m\u001b[0m\u001b[0;34m\u001b[0m\u001b[0;34m\u001b[0m\u001b[0m\n",
            "\u001b[0;31mNameError\u001b[0m: name 'Close' is not defined"
          ]
        }
      ]
    },
    {
      "cell_type": "code",
      "metadata": {
        "id": "HpBzzmsR5TPw",
        "colab_type": "code",
        "colab": {
          "base_uri": "https://localhost:8080/",
          "height": 191
        },
        "outputId": "b07aa56f-c81f-44c3-ab70-d57f13804d07"
      },
      "source": [
        "ls.head()\n",
        "#ls.plot.scatter(x='Date',y='Close')"
      ],
      "execution_count": 49,
      "outputs": [
        {
          "output_type": "error",
          "ename": "AttributeError",
          "evalue": "ignored",
          "traceback": [
            "\u001b[0;31m---------------------------------------------------------------------------\u001b[0m",
            "\u001b[0;31mAttributeError\u001b[0m                            Traceback (most recent call last)",
            "\u001b[0;32m<ipython-input-49-203523787d04>\u001b[0m in \u001b[0;36m<module>\u001b[0;34m()\u001b[0m\n\u001b[0;32m----> 1\u001b[0;31m \u001b[0mls\u001b[0m\u001b[0;34m.\u001b[0m\u001b[0mhead\u001b[0m\u001b[0;34m(\u001b[0m\u001b[0;34m)\u001b[0m\u001b[0;34m\u001b[0m\u001b[0;34m\u001b[0m\u001b[0m\n\u001b[0m\u001b[1;32m      2\u001b[0m \u001b[0;31m#ls.plot.scatter(x='Date',y='Close')\u001b[0m\u001b[0;34m\u001b[0m\u001b[0;34m\u001b[0m\u001b[0;34m\u001b[0m\u001b[0m\n",
            "\u001b[0;31mAttributeError\u001b[0m: 'str' object has no attribute 'head'"
          ]
        }
      ]
    }
  ]
}