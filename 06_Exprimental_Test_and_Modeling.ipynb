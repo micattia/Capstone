{
  "nbformat": 4,
  "nbformat_minor": 0,
  "metadata": {
    "colab": {
      "name": "Untitled5.ipynb",
      "version": "0.3.2",
      "provenance": [],
      "include_colab_link": true
    },
    "kernelspec": {
      "name": "python3",
      "display_name": "Python 3"
    }
  },
  "cells": [
    {
      "cell_type": "markdown",
      "metadata": {
        "id": "view-in-github",
        "colab_type": "text"
      },
      "source": [
        "<a href=\"https://colab.research.google.com/github/micattia/Capstone/blob/master/06_Exprimental_Test_and_Modeling.ipynb\" target=\"_parent\"><img src=\"https://colab.research.google.com/assets/colab-badge.svg\" alt=\"Open In Colab\"/></a>"
      ]
    },
    {
      "cell_type": "code",
      "metadata": {
        "id": "EHFqffosQo0n",
        "colab_type": "code",
        "colab": {}
      },
      "source": [
        "#load pandas component for data science\n",
        "import pandas as pd\n",
        "\n",
        "#load Apple data \n",
        "linkAP1 = 'https://raw.githubusercontent.com/micattia/Capstone_Data/master/AppleFinalData.csv'\n",
        "dfAPPL = pd.read_csv(linkAP1)\n",
        "linkAP2 = 'https://raw.githubusercontent.com/micattia/Capstone_Data/master/AppleNewsStock.csv'\n",
        "dfAPPLnews = pd.read_csv(linkAP2)\n",
        "\n",
        "#load Microsoft data\n",
        "linkMS1 = 'https://raw.githubusercontent.com/micattia/Capstone_Data/master/MicrosoftFinalData.csv'\n",
        "dfMS = pd.read_csv(linkMS1)\n",
        "linkMS2 = 'https://raw.githubusercontent.com/micattia/Capstone_Data/master/MicrosoftNewsStock.csv'\n",
        "dfMSnews = pd.read_csv(linkMS2)\n",
        "\n",
        "# Changing Some column names for the Microsoft main data frame to:\n",
        "# 1- removed the space from the Adj Close column, so that it would not give errors with coding\n",
        "# 2- standarised all columns to start with caps lock.\n",
        "\n",
        "dfMS = dfMS.rename(index=str, columns={\"Adj Close\": \"Adj_Close\", \"compound\": \"Compound\", \"neg\": \"Neg\", \"neu\": \"Neu\", \"pos\": \"Pos\"})\n",
        "\n",
        "# Changing Some column names for the Apple main data frame to:\n",
        "# 1- removed the space from the Adj Close column, so that it would not give errors with coding\n",
        "# 2- standarised all columns to start with caps lock.\n",
        "\n",
        "dfAPPL = dfAPPL.rename(index=str, columns={\"Adj Close\": \"Adj_Close\", \"compound\": \"Compound\", \"neg\": \"Neg\", \"neu\": \"Neu\", \"pos\": \"Pos\"})\n"
      ],
      "execution_count": 0,
      "outputs": []
    },
    {
      "cell_type": "code",
      "metadata": {
        "id": "DmfYH4buQu4A",
        "colab_type": "code",
        "colab": {}
      },
      "source": [
        "#loading required libraries \n",
        "#==========================\n",
        "from statsmodels.graphics.gofplots import qqplot\n",
        "import numpy as np\n",
        "import pandas as pd\n",
        "import matplotlib.pyplot as plt\n",
        "import seaborn as sns\n",
        "import plotly.plotly as py\n",
        "import plotly.figure_factory as ff\n",
        "%matplotlib inline\n",
        "\n",
        "plt.style.use('ggplot')"
      ],
      "execution_count": 0,
      "outputs": []
    },
    {
      "cell_type": "code",
      "metadata": {
        "id": "NvDEqui5Pg6Z",
        "colab_type": "code",
        "outputId": "e359cd41-44ea-443e-9a56-89dd8bd745a4",
        "colab": {
          "base_uri": "https://localhost:8080/",
          "height": 182
        }
      },
      "source": [
        "# Building a simple linier regression model and show its generated linier formula\n",
        "# removed the Close variable from the dataset since it is the same value as the Adj_Close dependant variable\n",
        "# which will lead to always have 100% accuracy\n",
        "\n",
        "from statsmodels.formula.api import ols\n",
        "model = ols('Adj_Close ~ Open + High + Low + Compound + Neg + Neu + Pos', data=dfMS)\n",
        "model = model.fit()\n",
        "print(model.params)\n",
        "#print(model)"
      ],
      "execution_count": 0,
      "outputs": [
        {
          "output_type": "stream",
          "text": [
            "Intercept   -0.007568\n",
            "Open        -0.524203\n",
            "High         0.760597\n",
            "Low          0.764195\n",
            "Compound    -0.005027\n",
            "Neg         -0.018313\n",
            "Neu         -0.000197\n",
            "Pos         -0.017996\n",
            "dtype: float64\n"
          ],
          "name": "stdout"
        }
      ]
    },
    {
      "cell_type": "code",
      "metadata": {
        "id": "gXCWV3wAPpnG",
        "colab_type": "code",
        "outputId": "ce60f0dd-b589-4eae-f967-fb98866aa15e",
        "colab": {
          "base_uri": "https://localhost:8080/",
          "height": 643
        }
      },
      "source": [
        "print(model.summary())"
      ],
      "execution_count": 0,
      "outputs": [
        {
          "output_type": "stream",
          "text": [
            "                            OLS Regression Results                            \n",
            "==============================================================================\n",
            "Dep. Variable:              Adj_Close   R-squared:                       1.000\n",
            "Model:                            OLS   Adj. R-squared:                  1.000\n",
            "Method:                 Least Squares   F-statistic:                 8.886e+05\n",
            "Date:                Sun, 21 Jul 2019   Prob (F-statistic):               0.00\n",
            "Time:                        23:03:02   Log-Likelihood:                 410.96\n",
            "No. Observations:                2517   AIC:                            -805.9\n",
            "Df Residuals:                    2509   BIC:                            -759.3\n",
            "Df Model:                           7                                         \n",
            "Covariance Type:            nonrobust                                         \n",
            "==============================================================================\n",
            "                 coef    std err          t      P>|t|      [0.025      0.975]\n",
            "------------------------------------------------------------------------------\n",
            "Intercept     -0.0076      0.015     -0.495      0.621      -0.038       0.022\n",
            "Open          -0.5242      0.016    -32.035      0.000      -0.556      -0.492\n",
            "High           0.7606      0.014     52.598      0.000       0.732       0.789\n",
            "Low            0.7642      0.014     54.180      0.000       0.737       0.792\n",
            "Compound      -0.0050      0.020     -0.252      0.801      -0.044       0.034\n",
            "Neg           -0.0183      0.137     -0.134      0.894      -0.287       0.250\n",
            "Neu           -0.0002      0.013     -0.016      0.988      -0.025       0.025\n",
            "Pos           -0.0180      0.121     -0.149      0.881      -0.254       0.218\n",
            "==============================================================================\n",
            "Omnibus:                      339.193   Durbin-Watson:                   2.117\n",
            "Prob(Omnibus):                  0.000   Jarque-Bera (JB):             3976.317\n",
            "Skew:                          -0.146   Prob(JB):                         0.00\n",
            "Kurtosis:                       9.151   Cond. No.                     2.43e+03\n",
            "==============================================================================\n",
            "\n",
            "Warnings:\n",
            "[1] Standard Errors assume that the covariance matrix of the errors is correctly specified.\n",
            "[2] The condition number is large, 2.43e+03. This might indicate that there are\n",
            "strong multicollinearity or other numerical problems.\n"
          ],
          "name": "stdout"
        }
      ]
    },
    {
      "cell_type": "code",
      "metadata": {
        "id": "Sv_JYjwdvJfA",
        "colab_type": "code",
        "outputId": "9936e266-0043-4117-cd1d-d877551038c3",
        "colab": {
          "base_uri": "https://localhost:8080/",
          "height": 313
        }
      },
      "source": [
        "# Using Anova test to compare between the two models where one have the financial data only \n",
        "# while the other have the sentiment analysis as well\n",
        "import statsmodels.api as sm\n",
        "from statsmodels.formula.api import ols\n",
        "from statsmodels.stats.anova import anova_lm\n",
        "\n",
        "model1 = ols('Adj_Close ~ Open + High + Low ', data=dfMS).fit()\n",
        "model2 = ols('Adj_Close ~ Open + High + Low + Compound + Neg + Neu + Pos', data=dfMS).fit()\n",
        "anova_result = anova_lm(model1, model2)\n",
        "print(anova_result)"
      ],
      "execution_count": 0,
      "outputs": [
        {
          "output_type": "stream",
          "text": [
            "   df_resid         ssr  df_diff  ss_diff         F    Pr(>F)\n",
            "0    2513.0  106.338547      0.0      NaN       NaN       NaN\n",
            "1    2509.0  106.314047      4.0   0.0245  0.144548  0.965438\n"
          ],
          "name": "stdout"
        },
        {
          "output_type": "stream",
          "text": [
            "/usr/local/lib/python3.6/dist-packages/scipy/stats/_distn_infrastructure.py:901: RuntimeWarning:\n",
            "\n",
            "invalid value encountered in greater\n",
            "\n",
            "/usr/local/lib/python3.6/dist-packages/scipy/stats/_distn_infrastructure.py:901: RuntimeWarning:\n",
            "\n",
            "invalid value encountered in less\n",
            "\n",
            "/usr/local/lib/python3.6/dist-packages/scipy/stats/_distn_infrastructure.py:1892: RuntimeWarning:\n",
            "\n",
            "invalid value encountered in less_equal\n",
            "\n"
          ],
          "name": "stderr"
        }
      ]
    },
    {
      "cell_type": "code",
      "metadata": {
        "id": "Oe2vs0qFjg4K",
        "colab_type": "code",
        "outputId": "3429af59-64bf-41e8-d071-050670e0b81b",
        "colab": {
          "base_uri": "https://localhost:8080/",
          "height": 636
        }
      },
      "source": [
        "################################ 1- SIMPLE LINEAR REGRESSION MODELS ######################################################\n",
        "################################################################################\n",
        "# MICROSOFT LINEAR TEST 1\n",
        "# BUILDING FIRST PREDECTION MODEL - SIMPLE LINIER REGRESSION\n",
        "# TEST GIVE 100% ACURACY WITH THE CLOSE COLUMN, AS IT IS THE SAME AS ADJ_CLOSE VALUE\n",
        "# SPLITING THE DATA INTO TRAINING SET AND TEST SET\n",
        "# THEN BUILDONG THE MODEL BASED ON THE TRAINING SET\n",
        "################################################################################\n",
        "from patsy import dmatrices\n",
        "from sklearn.model_selection import train_test_split\n",
        "import statsmodels.discrete.discrete_model as sm\n",
        "import statsmodels.api as sm1\n",
        "\n",
        "train_set, test_set = train_test_split(dfMS, train_size=0.7, random_state=1)\n",
        "\n",
        "y_train, X_train = dmatrices('Adj_Close ~ Open + High + Low + Close + Compound + Neg + Neu + Pos', train_set, return_type = 'dataframe')\n",
        "linier = sm1.OLS(y_train , X_train)\n",
        "linreg = linier.fit()\n",
        "linreg.summary()\n"
      ],
      "execution_count": 0,
      "outputs": [
        {
          "output_type": "execute_result",
          "data": {
            "text/html": [
              "<table class=\"simpletable\">\n",
              "<caption>OLS Regression Results</caption>\n",
              "<tr>\n",
              "  <th>Dep. Variable:</th>        <td>Adj_Close</td>    <th>  R-squared:         </th>  <td>   1.000</td> \n",
              "</tr>\n",
              "<tr>\n",
              "  <th>Model:</th>                   <td>OLS</td>       <th>  Adj. R-squared:    </th>  <td>   1.000</td> \n",
              "</tr>\n",
              "<tr>\n",
              "  <th>Method:</th>             <td>Least Squares</td>  <th>  F-statistic:       </th>  <td>2.113e+31</td>\n",
              "</tr>\n",
              "<tr>\n",
              "  <th>Date:</th>             <td>Sun, 21 Jul 2019</td> <th>  Prob (F-statistic):</th>   <td>  0.00</td>  \n",
              "</tr>\n",
              "<tr>\n",
              "  <th>Time:</th>                 <td>23:03:10</td>     <th>  Log-Likelihood:    </th>  <td>  52172.</td> \n",
              "</tr>\n",
              "<tr>\n",
              "  <th>No. Observations:</th>      <td>  1761</td>      <th>  AIC:               </th> <td>-1.043e+05</td>\n",
              "</tr>\n",
              "<tr>\n",
              "  <th>Df Residuals:</th>          <td>  1752</td>      <th>  BIC:               </th> <td>-1.043e+05</td>\n",
              "</tr>\n",
              "<tr>\n",
              "  <th>Df Model:</th>              <td>     8</td>      <th>                     </th>      <td> </td>    \n",
              "</tr>\n",
              "<tr>\n",
              "  <th>Covariance Type:</th>      <td>nonrobust</td>    <th>                     </th>      <td> </td>    \n",
              "</tr>\n",
              "</table>\n",
              "<table class=\"simpletable\">\n",
              "<tr>\n",
              "      <td></td>         <th>coef</th>     <th>std err</th>      <th>t</th>      <th>P>|t|</th>  <th>[0.025</th>    <th>0.975]</th>  \n",
              "</tr>\n",
              "<tr>\n",
              "  <th>Intercept</th> <td>-1.057e-14</td> <td> 2.95e-15</td> <td>   -3.580</td> <td> 0.000</td> <td>-1.64e-14</td> <td>-4.78e-15</td>\n",
              "</tr>\n",
              "<tr>\n",
              "  <th>Open</th>      <td>-3.275e-15</td> <td> 3.69e-15</td> <td>   -0.887</td> <td> 0.375</td> <td>-1.05e-14</td> <td> 3.96e-15</td>\n",
              "</tr>\n",
              "<tr>\n",
              "  <th>High</th>      <td> 1.277e-15</td> <td> 3.99e-15</td> <td>    0.320</td> <td> 0.749</td> <td>-6.55e-15</td> <td> 9.11e-15</td>\n",
              "</tr>\n",
              "<tr>\n",
              "  <th>Low</th>       <td> 4.226e-15</td> <td> 3.94e-15</td> <td>    1.073</td> <td> 0.283</td> <td> -3.5e-15</td> <td> 1.19e-14</td>\n",
              "</tr>\n",
              "<tr>\n",
              "  <th>Close</th>     <td>    1.0000</td> <td>  3.8e-15</td> <td> 2.63e+14</td> <td> 0.000</td> <td>    1.000</td> <td>    1.000</td>\n",
              "</tr>\n",
              "<tr>\n",
              "  <th>Compound</th>  <td> 4.552e-15</td> <td> 3.87e-15</td> <td>    1.175</td> <td> 0.240</td> <td>-3.04e-15</td> <td> 1.21e-14</td>\n",
              "</tr>\n",
              "<tr>\n",
              "  <th>Neg</th>       <td> 3.209e-14</td> <td> 2.68e-14</td> <td>    1.196</td> <td> 0.232</td> <td>-2.05e-14</td> <td> 8.47e-14</td>\n",
              "</tr>\n",
              "<tr>\n",
              "  <th>Neu</th>       <td> -1.18e-15</td> <td> 2.42e-15</td> <td>   -0.488</td> <td> 0.626</td> <td>-5.92e-15</td> <td> 3.56e-15</td>\n",
              "</tr>\n",
              "<tr>\n",
              "  <th>Pos</th>       <td>-1.788e-14</td> <td> 2.33e-14</td> <td>   -0.768</td> <td> 0.443</td> <td>-6.36e-14</td> <td> 2.78e-14</td>\n",
              "</tr>\n",
              "</table>\n",
              "<table class=\"simpletable\">\n",
              "<tr>\n",
              "  <th>Omnibus:</th>       <td>172.856</td> <th>  Durbin-Watson:     </th> <td>   0.305</td>\n",
              "</tr>\n",
              "<tr>\n",
              "  <th>Prob(Omnibus):</th> <td> 0.000</td>  <th>  Jarque-Bera (JB):  </th> <td> 226.887</td>\n",
              "</tr>\n",
              "<tr>\n",
              "  <th>Skew:</th>          <td>-0.879</td>  <th>  Prob(JB):          </th> <td>5.40e-50</td>\n",
              "</tr>\n",
              "<tr>\n",
              "  <th>Kurtosis:</th>      <td> 2.997</td>  <th>  Cond. No.          </th> <td>2.86e+03</td>\n",
              "</tr>\n",
              "</table><br/><br/>Warnings:<br/>[1] Standard Errors assume that the covariance matrix of the errors is correctly specified.<br/>[2] The condition number is large, 2.86e+03. This might indicate that there are<br/>strong multicollinearity or other numerical problems."
            ],
            "text/plain": [
              "<class 'statsmodels.iolib.summary.Summary'>\n",
              "\"\"\"\n",
              "                            OLS Regression Results                            \n",
              "==============================================================================\n",
              "Dep. Variable:              Adj_Close   R-squared:                       1.000\n",
              "Model:                            OLS   Adj. R-squared:                  1.000\n",
              "Method:                 Least Squares   F-statistic:                 2.113e+31\n",
              "Date:                Sun, 21 Jul 2019   Prob (F-statistic):               0.00\n",
              "Time:                        23:03:10   Log-Likelihood:                 52172.\n",
              "No. Observations:                1761   AIC:                        -1.043e+05\n",
              "Df Residuals:                    1752   BIC:                        -1.043e+05\n",
              "Df Model:                           8                                         \n",
              "Covariance Type:            nonrobust                                         \n",
              "==============================================================================\n",
              "                 coef    std err          t      P>|t|      [0.025      0.975]\n",
              "------------------------------------------------------------------------------\n",
              "Intercept  -1.057e-14   2.95e-15     -3.580      0.000   -1.64e-14   -4.78e-15\n",
              "Open       -3.275e-15   3.69e-15     -0.887      0.375   -1.05e-14    3.96e-15\n",
              "High        1.277e-15   3.99e-15      0.320      0.749   -6.55e-15    9.11e-15\n",
              "Low         4.226e-15   3.94e-15      1.073      0.283    -3.5e-15    1.19e-14\n",
              "Close          1.0000    3.8e-15   2.63e+14      0.000       1.000       1.000\n",
              "Compound    4.552e-15   3.87e-15      1.175      0.240   -3.04e-15    1.21e-14\n",
              "Neg         3.209e-14   2.68e-14      1.196      0.232   -2.05e-14    8.47e-14\n",
              "Neu         -1.18e-15   2.42e-15     -0.488      0.626   -5.92e-15    3.56e-15\n",
              "Pos        -1.788e-14   2.33e-14     -0.768      0.443   -6.36e-14    2.78e-14\n",
              "==============================================================================\n",
              "Omnibus:                      172.856   Durbin-Watson:                   0.305\n",
              "Prob(Omnibus):                  0.000   Jarque-Bera (JB):              226.887\n",
              "Skew:                          -0.879   Prob(JB):                     5.40e-50\n",
              "Kurtosis:                       2.997   Cond. No.                     2.86e+03\n",
              "==============================================================================\n",
              "\n",
              "Warnings:\n",
              "[1] Standard Errors assume that the covariance matrix of the errors is correctly specified.\n",
              "[2] The condition number is large, 2.86e+03. This might indicate that there are\n",
              "strong multicollinearity or other numerical problems.\n",
              "\"\"\""
            ]
          },
          "metadata": {
            "tags": []
          },
          "execution_count": 40
        }
      ]
    },
    {
      "cell_type": "code",
      "metadata": {
        "id": "fV83yqctqhgx",
        "colab_type": "code",
        "colab": {}
      },
      "source": [
        "# PREDECTING THE TEST SET BASED ON THE SIMPLE LINEAR REGRESSION MODEL CREATED BY THE TRAINING SET \n",
        "y_test, X_test = dmatrices('Adj_Close ~ Open + High + Low + Close + Compound + Neg + Neu + Pos', test_set, return_type = 'dataframe')\n",
        "pred = linreg.predict(X_test)\n",
        "#pred = model.get_prediction(test_df)"
      ],
      "execution_count": 0,
      "outputs": []
    },
    {
      "cell_type": "code",
      "metadata": {
        "id": "1Bgtj67UzOII",
        "colab_type": "code",
        "outputId": "c02008c5-e8e1-48c8-f0dd-6c585ab2499e",
        "colab": {
          "base_uri": "https://localhost:8080/",
          "height": 282
        }
      },
      "source": [
        "# EVALUATING THE MODEL\n",
        "# AND PLOT THE ERRORS\n",
        "errors = pred - test_set['Adj_Close']\n",
        "sns.distplot(errors,kde = False)\n",
        "plt.show()"
      ],
      "execution_count": 0,
      "outputs": [
        {
          "output_type": "display_data",
          "data": {
            "image/png": "[encoded data removed]",
            "text/plain": [
              "<Figure size 432x288 with 1 Axes>"
            ]
          },
          "metadata": {
            "tags": []
          }
        }
      ]
    },
    {
      "cell_type": "markdown",
      "metadata": {
        "id": "QMVjosWNmJNk",
        "colab_type": "text"
      },
      "source": [
        ""
      ]
    },
    {
      "cell_type": "code",
      "metadata": {
        "id": "OL46MwGYzVc5",
        "colab_type": "code",
        "outputId": "3ca4cf7c-8c93-49bf-d01e-0ccaed3bf3fc",
        "colab": {
          "base_uri": "https://localhost:8080/",
          "height": 54
        }
      },
      "source": [
        "# Calculating the root mean square errors \n",
        "# Calculating the percentage of cases with less than 5% error\n",
        "import math\n",
        "rmse = math.sqrt((errors **2).sum()/len(test_set))\n",
        "rel_change = errors.abs() / test_set['Adj_Close']\n",
        "pred05 = (rel_change < 0.05).sum() / len(test_set)\n",
        "print(\"RMSE:\", rmse)\n",
        "print(\"PRED(05):\", pred05)"
      ],
      "execution_count": 0,
      "outputs": [
        {
          "output_type": "stream",
          "text": [
            "RMSE: 3.295012163886266e-14\n",
            "PRED(05): 1.0\n"
          ],
          "name": "stdout"
        }
      ]
    },
    {
      "cell_type": "code",
      "metadata": {
        "id": "32dJaLqdi_Gv",
        "colab_type": "code",
        "outputId": "c4543d31-09c2-49e2-f6db-aac9cbae84e6",
        "colab": {
          "base_uri": "https://localhost:8080/",
          "height": 615
        }
      },
      "source": [
        "################################################################################\n",
        "# MICROSOFT LINEAR TEST 2\n",
        "# TESTING DIFFRENT PREDECTION - SIMPLE LINIER REGRESSION\n",
        "# REMOVE CLOSE COLUMN AS IT IS THE SAME VALUE AS ADJ_CLOSE\n",
        "# TEST SHOWS WHEN REMOVING THE ACCURACY WAS DECREASED \n",
        "# SPLITING THE DATA INTO TRAINING SET AND TEST SET\n",
        "# THEN BUILDONG THE MODEL BASED ON THE TRAINING SET\n",
        "################################################################################\n",
        "#from patsy import dmatrices\n",
        "#from sklearn.model_selection import train_test_split\n",
        "#import statsmodels.discrete.discrete_model as sm\n",
        "#import statsmodels.api as sm1\n",
        "\n",
        "train_set, test_set = train_test_split(dfMS, train_size=0.7, random_state=1)\n",
        "\n",
        "y_train, X_train = dmatrices('Adj_Close ~ Open + High + Low + Compound + Neg + Neu + Pos', train_set, return_type = 'dataframe')\n",
        "linier = sm1.OLS(y_train , X_train)\n",
        "linreg = linier.fit()\n",
        "linreg.summary()\n"
      ],
      "execution_count": 0,
      "outputs": [
        {
          "output_type": "execute_result",
          "data": {
            "text/html": [
              "<table class=\"simpletable\">\n",
              "<caption>OLS Regression Results</caption>\n",
              "<tr>\n",
              "  <th>Dep. Variable:</th>        <td>Adj_Close</td>    <th>  R-squared:         </th> <td>   1.000</td> \n",
              "</tr>\n",
              "<tr>\n",
              "  <th>Model:</th>                   <td>OLS</td>       <th>  Adj. R-squared:    </th> <td>   1.000</td> \n",
              "</tr>\n",
              "<tr>\n",
              "  <th>Method:</th>             <td>Least Squares</td>  <th>  F-statistic:       </th> <td>6.119e+05</td>\n",
              "</tr>\n",
              "<tr>\n",
              "  <th>Date:</th>             <td>Sun, 21 Jul 2019</td> <th>  Prob (F-statistic):</th>  <td>  0.00</td>  \n",
              "</tr>\n",
              "<tr>\n",
              "  <th>Time:</th>                 <td>23:03:40</td>     <th>  Log-Likelihood:    </th> <td>  277.50</td> \n",
              "</tr>\n",
              "<tr>\n",
              "  <th>No. Observations:</th>      <td>  1761</td>      <th>  AIC:               </th> <td>  -539.0</td> \n",
              "</tr>\n",
              "<tr>\n",
              "  <th>Df Residuals:</th>          <td>  1753</td>      <th>  BIC:               </th> <td>  -495.2</td> \n",
              "</tr>\n",
              "<tr>\n",
              "  <th>Df Model:</th>              <td>     7</td>      <th>                     </th>     <td> </td>    \n",
              "</tr>\n",
              "<tr>\n",
              "  <th>Covariance Type:</th>      <td>nonrobust</td>    <th>                     </th>     <td> </td>    \n",
              "</tr>\n",
              "</table>\n",
              "<table class=\"simpletable\">\n",
              "<tr>\n",
              "      <td></td>         <th>coef</th>     <th>std err</th>      <th>t</th>      <th>P>|t|</th>  <th>[0.025</th>    <th>0.975]</th>  \n",
              "</tr>\n",
              "<tr>\n",
              "  <th>Intercept</th> <td>   -0.0217</td> <td>    0.019</td> <td>   -1.168</td> <td> 0.243</td> <td>   -0.058</td> <td>    0.015</td>\n",
              "</tr>\n",
              "<tr>\n",
              "  <th>Open</th>      <td>   -0.5077</td> <td>    0.020</td> <td>  -25.693</td> <td> 0.000</td> <td>   -0.546</td> <td>   -0.469</td>\n",
              "</tr>\n",
              "<tr>\n",
              "  <th>High</th>      <td>    0.7643</td> <td>    0.017</td> <td>   44.469</td> <td> 0.000</td> <td>    0.731</td> <td>    0.798</td>\n",
              "</tr>\n",
              "<tr>\n",
              "  <th>Low</th>       <td>    0.7443</td> <td>    0.017</td> <td>   43.292</td> <td> 0.000</td> <td>    0.711</td> <td>    0.778</td>\n",
              "</tr>\n",
              "<tr>\n",
              "  <th>Compound</th>  <td>   -0.0093</td> <td>    0.024</td> <td>   -0.381</td> <td> 0.703</td> <td>   -0.057</td> <td>    0.038</td>\n",
              "</tr>\n",
              "<tr>\n",
              "  <th>Neg</th>       <td>   -0.1510</td> <td>    0.168</td> <td>   -0.896</td> <td> 0.370</td> <td>   -0.481</td> <td>    0.180</td>\n",
              "</tr>\n",
              "<tr>\n",
              "  <th>Neu</th>       <td>    0.0056</td> <td>    0.015</td> <td>    0.367</td> <td> 0.714</td> <td>   -0.024</td> <td>    0.035</td>\n",
              "</tr>\n",
              "<tr>\n",
              "  <th>Pos</th>       <td>   -0.0086</td> <td>    0.146</td> <td>   -0.059</td> <td> 0.953</td> <td>   -0.295</td> <td>    0.278</td>\n",
              "</tr>\n",
              "</table>\n",
              "<table class=\"simpletable\">\n",
              "<tr>\n",
              "  <th>Omnibus:</th>       <td>220.868</td> <th>  Durbin-Watson:     </th> <td>   1.987</td>\n",
              "</tr>\n",
              "<tr>\n",
              "  <th>Prob(Omnibus):</th> <td> 0.000</td>  <th>  Jarque-Bera (JB):  </th> <td>2353.651</td>\n",
              "</tr>\n",
              "<tr>\n",
              "  <th>Skew:</th>          <td>-0.038</td>  <th>  Prob(JB):          </th> <td>    0.00</td>\n",
              "</tr>\n",
              "<tr>\n",
              "  <th>Kurtosis:</th>      <td> 8.663</td>  <th>  Cond. No.          </th> <td>2.48e+03</td>\n",
              "</tr>\n",
              "</table><br/><br/>Warnings:<br/>[1] Standard Errors assume that the covariance matrix of the errors is correctly specified.<br/>[2] The condition number is large, 2.48e+03. This might indicate that there are<br/>strong multicollinearity or other numerical problems."
            ],
            "text/plain": [
              "<class 'statsmodels.iolib.summary.Summary'>\n",
              "\"\"\"\n",
              "                            OLS Regression Results                            \n",
              "==============================================================================\n",
              "Dep. Variable:              Adj_Close   R-squared:                       1.000\n",
              "Model:                            OLS   Adj. R-squared:                  1.000\n",
              "Method:                 Least Squares   F-statistic:                 6.119e+05\n",
              "Date:                Sun, 21 Jul 2019   Prob (F-statistic):               0.00\n",
              "Time:                        23:03:40   Log-Likelihood:                 277.50\n",
              "No. Observations:                1761   AIC:                            -539.0\n",
              "Df Residuals:                    1753   BIC:                            -495.2\n",
              "Df Model:                           7                                         \n",
              "Covariance Type:            nonrobust                                         \n",
              "==============================================================================\n",
              "                 coef    std err          t      P>|t|      [0.025      0.975]\n",
              "------------------------------------------------------------------------------\n",
              "Intercept     -0.0217      0.019     -1.168      0.243      -0.058       0.015\n",
              "Open          -0.5077      0.020    -25.693      0.000      -0.546      -0.469\n",
              "High           0.7643      0.017     44.469      0.000       0.731       0.798\n",
              "Low            0.7443      0.017     43.292      0.000       0.711       0.778\n",
              "Compound      -0.0093      0.024     -0.381      0.703      -0.057       0.038\n",
              "Neg           -0.1510      0.168     -0.896      0.370      -0.481       0.180\n",
              "Neu            0.0056      0.015      0.367      0.714      -0.024       0.035\n",
              "Pos           -0.0086      0.146     -0.059      0.953      -0.295       0.278\n",
              "==============================================================================\n",
              "Omnibus:                      220.868   Durbin-Watson:                   1.987\n",
              "Prob(Omnibus):                  0.000   Jarque-Bera (JB):             2353.651\n",
              "Skew:                          -0.038   Prob(JB):                         0.00\n",
              "Kurtosis:                       8.663   Cond. No.                     2.48e+03\n",
              "==============================================================================\n",
              "\n",
              "Warnings:\n",
              "[1] Standard Errors assume that the covariance matrix of the errors is correctly specified.\n",
              "[2] The condition number is large, 2.48e+03. This might indicate that there are\n",
              "strong multicollinearity or other numerical problems.\n",
              "\"\"\""
            ]
          },
          "metadata": {
            "tags": []
          },
          "execution_count": 44
        }
      ]
    },
    {
      "cell_type": "code",
      "metadata": {
        "id": "xEbGJDA9jDN7",
        "colab_type": "code",
        "colab": {}
      },
      "source": [
        "# PREDECTING THE TEST SET BASED ON THE SIMPLE LINEAR REGRESSION MODEL CREATED BY THE TRAINING SET \n",
        "y_test, X_test = dmatrices('Adj_Close ~ Open + High + Low + Compound + Neg + Neu + Pos', test_set, return_type = 'dataframe')\n",
        "pred = linreg.predict(X_test)\n",
        "#pred = model.get_prediction(test_df)"
      ],
      "execution_count": 0,
      "outputs": []
    },
    {
      "cell_type": "code",
      "metadata": {
        "id": "GIcrl7mFkUV3",
        "colab_type": "code",
        "outputId": "940b8c26-d14e-4bd5-f3ec-f027af4c6583",
        "colab": {
          "base_uri": "https://localhost:8080/",
          "height": 269
        }
      },
      "source": [
        "# EVALUATING THE MODEL\n",
        "# AND PLOT THE ERRORS\n",
        "# Errors looks to be normaly distributed with few outliers\n",
        "errors = pred - test_set['Adj_Close']\n",
        "sns.distplot(errors,kde = False)\n",
        "plt.show()"
      ],
      "execution_count": 0,
      "outputs": [
        {
          "output_type": "display_data",
          "data": {
            "image/png": "[encoded data removed]",
            "text/plain": [
              "<Figure size 432x288 with 1 Axes>"
            ]
          },
          "metadata": {
            "tags": []
          }
        }
      ]
    },
    {
      "cell_type": "code",
      "metadata": {
        "id": "72zKnTxNyUok",
        "colab_type": "code",
        "outputId": "33853833-3e77-4f94-fa73-735034c49250",
        "colab": {
          "base_uri": "https://localhost:8080/",
          "height": 54
        }
      },
      "source": [
        "# Calculating the root mean square errors \n",
        "# Calculating the percentage of cases with less than 5% error\n",
        "import math\n",
        "rmse = math.sqrt((errors **2).sum()/len(test_set))\n",
        "rel_change = errors.abs() / test_set['Adj_Close']\n",
        "pred05 = (rel_change < 0.05).sum() / len(test_set)\n",
        "print(\"RMSE:\", rmse)\n",
        "print(\"PRED(05):\", pred05)"
      ],
      "execution_count": 0,
      "outputs": [
        {
          "output_type": "stream",
          "text": [
            "RMSE: 0.20341252937648835\n",
            "PRED(05): 0.9986772486772487\n"
          ],
          "name": "stdout"
        }
      ]
    },
    {
      "cell_type": "code",
      "metadata": {
        "id": "yR75V18oz4In",
        "colab_type": "code",
        "colab": {}
      },
      "source": [
        "# THE SQUARE ERRORS AND PRED ACUARCY WAS BETTER WHEN THE CLOSE VARIABLE WAS THERE\n",
        "# WHEN REMOVED IT SHOWED MORE SQUARE ERROR AND LESS ACURACY BUT STILL THE ACUARY WAS HIGHT "
      ],
      "execution_count": 0,
      "outputs": []
    },
    {
      "cell_type": "code",
      "metadata": {
        "id": "NDqcy5iEwoAQ",
        "colab_type": "code",
        "outputId": "7e04cad4-6a03-4596-d53b-388e978e5686",
        "colab": {
          "base_uri": "https://localhost:8080/",
          "height": 494
        }
      },
      "source": [
        "################################################################################\n",
        "# MICROSOFT LINEAR TEST 3\n",
        "# TESTING DIFFRENT PREDECTION - SIMPLE LINIER REGRESSION\n",
        "# REMOVE Sentiment analysis columns and see if it was doing better\n",
        "# SPLITING THE DATA INTO TRAINING SET AND TEST SET\n",
        "# THEN BUILDONG THE MODEL BASED ON THE TRAINING SET\n",
        "################################################################################\n",
        "#from patsy import dmatrices\n",
        "#from sklearn.model_selection import train_test_split\n",
        "#import statsmodels.discrete.discrete_model as sm\n",
        "#import statsmodels.api as sm1\n",
        "\n",
        "train_set, test_set = train_test_split(dfMS, train_size=0.7, random_state=1)\n",
        "\n",
        "y_train, X_train = dmatrices('Adj_Close ~ Open + High + Low', train_set, return_type = 'dataframe')\n",
        "linier = sm1.OLS(y_train , X_train)\n",
        "linreg = linier.fit()\n",
        "linreg.summary()\n"
      ],
      "execution_count": 0,
      "outputs": [
        {
          "output_type": "execute_result",
          "data": {
            "text/html": [
              "<table class=\"simpletable\">\n",
              "<caption>OLS Regression Results</caption>\n",
              "<tr>\n",
              "  <th>Dep. Variable:</th>        <td>Adj_Close</td>    <th>  R-squared:         </th> <td>   1.000</td> \n",
              "</tr>\n",
              "<tr>\n",
              "  <th>Model:</th>                   <td>OLS</td>       <th>  Adj. R-squared:    </th> <td>   1.000</td> \n",
              "</tr>\n",
              "<tr>\n",
              "  <th>Method:</th>             <td>Least Squares</td>  <th>  F-statistic:       </th> <td>1.430e+06</td>\n",
              "</tr>\n",
              "<tr>\n",
              "  <th>Date:</th>             <td>Sun, 21 Jul 2019</td> <th>  Prob (F-statistic):</th>  <td>  0.00</td>  \n",
              "</tr>\n",
              "<tr>\n",
              "  <th>Time:</th>                 <td>23:03:59</td>     <th>  Log-Likelihood:    </th> <td>  276.72</td> \n",
              "</tr>\n",
              "<tr>\n",
              "  <th>No. Observations:</th>      <td>  1761</td>      <th>  AIC:               </th> <td>  -545.4</td> \n",
              "</tr>\n",
              "<tr>\n",
              "  <th>Df Residuals:</th>          <td>  1757</td>      <th>  BIC:               </th> <td>  -523.5</td> \n",
              "</tr>\n",
              "<tr>\n",
              "  <th>Df Model:</th>              <td>     3</td>      <th>                     </th>     <td> </td>    \n",
              "</tr>\n",
              "<tr>\n",
              "  <th>Covariance Type:</th>      <td>nonrobust</td>    <th>                     </th>     <td> </td>    \n",
              "</tr>\n",
              "</table>\n",
              "<table class=\"simpletable\">\n",
              "<tr>\n",
              "      <td></td>         <th>coef</th>     <th>std err</th>      <th>t</th>      <th>P>|t|</th>  <th>[0.025</th>    <th>0.975]</th>  \n",
              "</tr>\n",
              "<tr>\n",
              "  <th>Intercept</th> <td>   -0.0249</td> <td>    0.018</td> <td>   -1.398</td> <td> 0.162</td> <td>   -0.060</td> <td>    0.010</td>\n",
              "</tr>\n",
              "<tr>\n",
              "  <th>Open</th>      <td>   -0.5085</td> <td>    0.020</td> <td>  -25.786</td> <td> 0.000</td> <td>   -0.547</td> <td>   -0.470</td>\n",
              "</tr>\n",
              "<tr>\n",
              "  <th>High</th>      <td>    0.7649</td> <td>    0.017</td> <td>   44.572</td> <td> 0.000</td> <td>    0.731</td> <td>    0.799</td>\n",
              "</tr>\n",
              "<tr>\n",
              "  <th>Low</th>       <td>    0.7444</td> <td>    0.017</td> <td>   43.445</td> <td> 0.000</td> <td>    0.711</td> <td>    0.778</td>\n",
              "</tr>\n",
              "</table>\n",
              "<table class=\"simpletable\">\n",
              "<tr>\n",
              "  <th>Omnibus:</th>       <td>221.182</td> <th>  Durbin-Watson:     </th> <td>   1.987</td>\n",
              "</tr>\n",
              "<tr>\n",
              "  <th>Prob(Omnibus):</th> <td> 0.000</td>  <th>  Jarque-Bera (JB):  </th> <td>2364.276</td>\n",
              "</tr>\n",
              "<tr>\n",
              "  <th>Skew:</th>          <td>-0.035</td>  <th>  Prob(JB):          </th> <td>    0.00</td>\n",
              "</tr>\n",
              "<tr>\n",
              "  <th>Kurtosis:</th>      <td> 8.676</td>  <th>  Cond. No.          </th> <td>    299.</td>\n",
              "</tr>\n",
              "</table><br/><br/>Warnings:<br/>[1] Standard Errors assume that the covariance matrix of the errors is correctly specified."
            ],
            "text/plain": [
              "<class 'statsmodels.iolib.summary.Summary'>\n",
              "\"\"\"\n",
              "                            OLS Regression Results                            \n",
              "==============================================================================\n",
              "Dep. Variable:              Adj_Close   R-squared:                       1.000\n",
              "Model:                            OLS   Adj. R-squared:                  1.000\n",
              "Method:                 Least Squares   F-statistic:                 1.430e+06\n",
              "Date:                Sun, 21 Jul 2019   Prob (F-statistic):               0.00\n",
              "Time:                        23:03:59   Log-Likelihood:                 276.72\n",
              "No. Observations:                1761   AIC:                            -545.4\n",
              "Df Residuals:                    1757   BIC:                            -523.5\n",
              "Df Model:                           3                                         \n",
              "Covariance Type:            nonrobust                                         \n",
              "==============================================================================\n",
              "                 coef    std err          t      P>|t|      [0.025      0.975]\n",
              "------------------------------------------------------------------------------\n",
              "Intercept     -0.0249      0.018     -1.398      0.162      -0.060       0.010\n",
              "Open          -0.5085      0.020    -25.786      0.000      -0.547      -0.470\n",
              "High           0.7649      0.017     44.572      0.000       0.731       0.799\n",
              "Low            0.7444      0.017     43.445      0.000       0.711       0.778\n",
              "==============================================================================\n",
              "Omnibus:                      221.182   Durbin-Watson:                   1.987\n",
              "Prob(Omnibus):                  0.000   Jarque-Bera (JB):             2364.276\n",
              "Skew:                          -0.035   Prob(JB):                         0.00\n",
              "Kurtosis:                       8.676   Cond. No.                         299.\n",
              "==============================================================================\n",
              "\n",
              "Warnings:\n",
              "[1] Standard Errors assume that the covariance matrix of the errors is correctly specified.\n",
              "\"\"\""
            ]
          },
          "metadata": {
            "tags": []
          },
          "execution_count": 48
        }
      ]
    },
    {
      "cell_type": "code",
      "metadata": {
        "id": "ghoJ9FhQxlkd",
        "colab_type": "code",
        "colab": {}
      },
      "source": [
        "# PREDECTING THE TEST SET BASED ON THE SIMPLE LINEAR REGRESSION MODEL CREATED BY THE TRAINING SET \n",
        "y_test, X_test = dmatrices('Adj_Close ~ Open + High + Low', test_set, return_type = 'dataframe')\n",
        "pred = linreg.predict(X_test)\n",
        "#pred = model.get_prediction(test_df)"
      ],
      "execution_count": 0,
      "outputs": []
    },
    {
      "cell_type": "code",
      "metadata": {
        "id": "2_lbN4PVxxsv",
        "colab_type": "code",
        "outputId": "68e91561-7f8d-4644-a57a-478f0ef96224",
        "colab": {
          "base_uri": "https://localhost:8080/",
          "height": 269
        }
      },
      "source": [
        "# EVALUATING THE MODEL\n",
        "# AND PLOT THE ERRORS\n",
        "# Errors looks to be normaly distributed with few outliers\n",
        "errors = pred - test_set['Adj_Close']\n",
        "sns.distplot(errors,kde = False)\n",
        "plt.show()"
      ],
      "execution_count": 0,
      "outputs": [
        {
          "output_type": "display_data",
          "data": {
            "image/png": "[encoded data removed]",
            "text/plain": [
              "<Figure size 432x288 with 1 Axes>"
            ]
          },
          "metadata": {
            "tags": []
          }
        }
      ]
    },
    {
      "cell_type": "code",
      "metadata": {
        "id": "5es8r7OBx3VY",
        "colab_type": "code",
        "outputId": "869f67dd-ff5b-480a-bf82-4b23963fceaa",
        "colab": {
          "base_uri": "https://localhost:8080/",
          "height": 54
        }
      },
      "source": [
        "# Calculating the root mean square errors \n",
        "# Calculating the percentage of cases with less than 5% error\n",
        "import math\n",
        "rmse = math.sqrt((errors **2).sum()/len(test_set))\n",
        "rel_change = errors.abs() / test_set['Adj_Close']\n",
        "pred05 = (rel_change < 0.05).sum() / len(test_set)\n",
        "print(\"RMSE:\", rmse)\n",
        "print(\"PRED(05):\", pred05)"
      ],
      "execution_count": 0,
      "outputs": [
        {
          "output_type": "stream",
          "text": [
            "RMSE: 0.20308116766549456\n",
            "PRED(05): 0.9986772486772487\n"
          ],
          "name": "stdout"
        }
      ]
    },
    {
      "cell_type": "code",
      "metadata": {
        "id": "QwcmpdeIz71V",
        "colab_type": "code",
        "colab": {}
      },
      "source": [
        "# TEST SHOWS THAT ACCURACY WAS NOT CHANGED WHEN REMOVING THE SENTIMENT ANALYSIS COLUMNS"
      ],
      "execution_count": 0,
      "outputs": []
    },
    {
      "cell_type": "code",
      "metadata": {
        "id": "A9ORWhP3P960",
        "colab_type": "code",
        "colab": {}
      },
      "source": [
        "#APPLE##APPLE##APPLE##APPLE##APPLE##APPLE##APPLE##APPLE##APPLE##APPLE##APPLE##APPLE##APPLE##APPLE##APPLE##APPLE##APPLE##APPLE##APPLE##APPLE##APPLE##APPLE##APPLE##APPLE##APPLE##APPLE##APPLE##APPLE##APPLE##APPLE#\n",
        "#APPLE##APPLE##APPLE##APPLE##APPLE##APPLE##APPLE##APPLE##APPLE##APPLE##APPLE##APPLE##APPLE##APPLE##APPLE##APPLE##APPLE##APPLE##APPLE##APPLE##APPLE##APPLE##APPLE##APPLE##APPLE##APPLE##APPLE##APPLE##APPLE##APPLE#\n",
        "#APPLE##APPLE##APPLE##APPLE##APPLE##APPLE##APPLE##APPLE##APPLE##APPLE##APPLE##APPLE##APPLE##APPLE##APPLE##APPLE##APPLE##APPLE##APPLE##APPLE##APPLE##APPLE##APPLE##APPLE##APPLE##APPLE##APPLE##APPLE##APPLE##APPLE#\n",
        "#APPLE##APPLE##APPLE##APPLE##APPLE##APPLE##APPLE##APPLE##APPLE##APPLE##APPLE##APPLE##APPLE##APPLE##APPLE##APPLE##APPLE##APPLE##APPLE##APPLE##APPLE##APPLE##APPLE##APPLE##APPLE##APPLE##APPLE##APPLE##APPLE##APPLE#"
      ],
      "execution_count": 0,
      "outputs": []
    },
    {
      "cell_type": "code",
      "metadata": {
        "id": "I3fhhGDbSLWI",
        "colab_type": "code",
        "outputId": "08dc7300-f571-4743-e965-d692459ff3fd",
        "colab": {
          "base_uri": "https://localhost:8080/",
          "height": 136
        }
      },
      "source": [
        "# COMPARING A DATA POINT FROM THE APPLE DATASET ON 3 DIFFRENT LINEAR REGRESSION MODELS\n",
        "# 1- WITH FINANCIAL DATA AND SENTIMENT ANALYSIS\n",
        "# 2- WITH FINANCIAL DATA AND COMPOUND SENTIMENT ONLY\n",
        "# 3- ONLY FINANCIAL DATA WITH NO SENTIMENT\n",
        "# Providing Test Data to the Linear Prediction Model to see its Prediction\n",
        "from statsmodels.formula.api import ols\n",
        "\n",
        "model1 = ols('Adj_Close ~ Open + High + Low + Compound + Neg + Neu + Pos', data=dfMS).fit()\n",
        "model2 = ols('Adj_Close ~ Open + High + Low + Compound', data=dfMS).fit()\n",
        "model3 = ols('Adj_Close ~ Open + High + Low', data=dfMS).fit()\n",
        "\n",
        "test_df1 = pd.DataFrame(columns=[\"Open\" ,\"High\",\"Low\",\"Compound\",\"Neg\",\"Neu\",\"Pos\"], data=[[109.72, 110.54, 109.66, 0.7932, 0.052, 0.847, 0.101]])\n",
        "test_df2 = pd.DataFrame(columns=[\"Open\" ,\"High\",\"Low\",\"Compound\"], data=[[109.72, 110.54, 109.66, 0.7932]])\n",
        "test_df3 = pd.DataFrame(columns=[\"Open\" ,\"High\",\"Low\"], data=[[109.72, 110.54, 109.66]])\n",
        "\n",
        "mpg_pred1 = model1.predict(test_df1)\n",
        "mpg_pred2 = model2.predict(test_df2)\n",
        "mpg_pred3 = model3.predict(test_df3)\n",
        "\n",
        "print('Original Adj_Close Value:              0    110.06')\n",
        "print('First Model with sentiment:           ', mpg_pred1,'')\n",
        "print('Second Model only compound sentiment: ', mpg_pred2)\n",
        "print('Third Model no sentiment:             ',mpg_pred3)"
      ],
      "execution_count": 0,
      "outputs": [
        {
          "output_type": "stream",
          "text": [
            "Original Adj_Close Value:              0    110.06\n",
            "First Model with sentiment:            0    110.347946\n",
            "dtype: float64 \n",
            "Second Model only compound sentiment:  0    110.348667\n",
            "dtype: float64\n",
            "Third Model no sentiment:              0    110.352574\n",
            "dtype: float64\n"
          ],
          "name": "stdout"
        }
      ]
    },
    {
      "cell_type": "code",
      "metadata": {
        "id": "uNYqqL7bOCJ4",
        "colab_type": "code",
        "outputId": "39fe1f27-0918-4ff7-e1f0-070aef8f12cb",
        "colab": {
          "base_uri": "https://localhost:8080/",
          "height": 604
        }
      },
      "source": [
        "################################################ LINEAR REGRESSION WITH APPLE STOCK ##########################################################################\n",
        "#######APPLE################APPPLE################APPPLE####################APPLE##########################APPPLE######################APPLE##################\n",
        "################################################################################\n",
        "# APPLE LINEAR TEST 1\n",
        "# TESTING - SIMPLE LINIER REGRESSION\n",
        "# REMOVE CLOSE COLUMN AS IT IS THE SAME VALUE AS ADJ_CLOSE\n",
        "# SPLITING THE DATA INTO TRAINING SET AND TEST SET\n",
        "# THEN BUILDONG THE MODEL BASED ON THE TRAINING SET\n",
        "################################################################################\n",
        "from patsy import dmatrices\n",
        "from sklearn.model_selection import train_test_split\n",
        "import statsmodels.discrete.discrete_model as sm\n",
        "import statsmodels.api as sm1\n",
        "\n",
        "train_set, test_set = train_test_split(dfAPPL, train_size=0.7, random_state=1)\n",
        "\n",
        "y_train, X_train = dmatrices('Adj_Close ~ Open + High + Low + Compound + Neg + Neu + Pos', train_set, return_type = 'dataframe')\n",
        "linier = sm1.OLS(y_train , X_train)\n",
        "linreg = linier.fit()\n",
        "linreg.summary()"
      ],
      "execution_count": 0,
      "outputs": [
        {
          "output_type": "execute_result",
          "data": {
            "text/html": [
              "<table class=\"simpletable\">\n",
              "<caption>OLS Regression Results</caption>\n",
              "<tr>\n",
              "  <th>Dep. Variable:</th>        <td>Adj_Close</td>    <th>  R-squared:         </th> <td>   1.000</td> \n",
              "</tr>\n",
              "<tr>\n",
              "  <th>Model:</th>                   <td>OLS</td>       <th>  Adj. R-squared:    </th> <td>   1.000</td> \n",
              "</tr>\n",
              "<tr>\n",
              "  <th>Method:</th>             <td>Least Squares</td>  <th>  F-statistic:       </th> <td>1.999e+06</td>\n",
              "</tr>\n",
              "<tr>\n",
              "  <th>Date:</th>             <td>Mon, 08 Jul 2019</td> <th>  Prob (F-statistic):</th>  <td>  0.00</td>  \n",
              "</tr>\n",
              "<tr>\n",
              "  <th>Time:</th>                 <td>20:31:11</td>     <th>  Log-Likelihood:    </th> <td> -906.81</td> \n",
              "</tr>\n",
              "<tr>\n",
              "  <th>No. Observations:</th>      <td>  1761</td>      <th>  AIC:               </th> <td>   1830.</td> \n",
              "</tr>\n",
              "<tr>\n",
              "  <th>Df Residuals:</th>          <td>  1753</td>      <th>  BIC:               </th> <td>   1873.</td> \n",
              "</tr>\n",
              "<tr>\n",
              "  <th>Df Model:</th>              <td>     7</td>      <th>                     </th>     <td> </td>    \n",
              "</tr>\n",
              "<tr>\n",
              "  <th>Covariance Type:</th>      <td>nonrobust</td>    <th>                     </th>     <td> </td>    \n",
              "</tr>\n",
              "</table>\n",
              "<table class=\"simpletable\">\n",
              "<tr>\n",
              "      <td></td>         <th>coef</th>     <th>std err</th>      <th>t</th>      <th>P>|t|</th>  <th>[0.025</th>    <th>0.975]</th>  \n",
              "</tr>\n",
              "<tr>\n",
              "  <th>Intercept</th> <td>   -0.0034</td> <td>    0.038</td> <td>   -0.088</td> <td> 0.930</td> <td>   -0.079</td> <td>    0.072</td>\n",
              "</tr>\n",
              "<tr>\n",
              "  <th>Open</th>      <td>   -0.5892</td> <td>    0.018</td> <td>  -32.305</td> <td> 0.000</td> <td>   -0.625</td> <td>   -0.553</td>\n",
              "</tr>\n",
              "<tr>\n",
              "  <th>High</th>      <td>    0.8292</td> <td>    0.016</td> <td>   52.758</td> <td> 0.000</td> <td>    0.798</td> <td>    0.860</td>\n",
              "</tr>\n",
              "<tr>\n",
              "  <th>Low</th>       <td>    0.7596</td> <td>    0.015</td> <td>   51.289</td> <td> 0.000</td> <td>    0.731</td> <td>    0.789</td>\n",
              "</tr>\n",
              "<tr>\n",
              "  <th>Compound</th>  <td>    0.0348</td> <td>    0.027</td> <td>    1.272</td> <td> 0.204</td> <td>   -0.019</td> <td>    0.088</td>\n",
              "</tr>\n",
              "<tr>\n",
              "  <th>Neg</th>       <td>    0.5412</td> <td>    0.397</td> <td>    1.363</td> <td> 0.173</td> <td>   -0.238</td> <td>    1.320</td>\n",
              "</tr>\n",
              "<tr>\n",
              "  <th>Neu</th>       <td>    0.0259</td> <td>    0.048</td> <td>    0.537</td> <td> 0.591</td> <td>   -0.069</td> <td>    0.121</td>\n",
              "</tr>\n",
              "<tr>\n",
              "  <th>Pos</th>       <td>   -0.4950</td> <td>    0.343</td> <td>   -1.445</td> <td> 0.149</td> <td>   -1.167</td> <td>    0.177</td>\n",
              "</tr>\n",
              "</table>\n",
              "<table class=\"simpletable\">\n",
              "<tr>\n",
              "  <th>Omnibus:</th>       <td>418.972</td> <th>  Durbin-Watson:     </th> <td>   1.994</td> \n",
              "</tr>\n",
              "<tr>\n",
              "  <th>Prob(Omnibus):</th> <td> 0.000</td>  <th>  Jarque-Bera (JB):  </th> <td>10598.347</td>\n",
              "</tr>\n",
              "<tr>\n",
              "  <th>Skew:</th>          <td> 0.507</td>  <th>  Prob(JB):          </th> <td>    0.00</td> \n",
              "</tr>\n",
              "<tr>\n",
              "  <th>Kurtosis:</th>      <td>14.976</td>  <th>  Cond. No.          </th> <td>5.81e+03</td> \n",
              "</tr>\n",
              "</table><br/><br/>Warnings:<br/>[1] Standard Errors assume that the covariance matrix of the errors is correctly specified.<br/>[2] The condition number is large, 5.81e+03. This might indicate that there are<br/>strong multicollinearity or other numerical problems."
            ],
            "text/plain": [
              "<class 'statsmodels.iolib.summary.Summary'>\n",
              "\"\"\"\n",
              "                            OLS Regression Results                            \n",
              "==============================================================================\n",
              "Dep. Variable:              Adj_Close   R-squared:                       1.000\n",
              "Model:                            OLS   Adj. R-squared:                  1.000\n",
              "Method:                 Least Squares   F-statistic:                 1.999e+06\n",
              "Date:                Mon, 08 Jul 2019   Prob (F-statistic):               0.00\n",
              "Time:                        20:31:11   Log-Likelihood:                -906.81\n",
              "No. Observations:                1761   AIC:                             1830.\n",
              "Df Residuals:                    1753   BIC:                             1873.\n",
              "Df Model:                           7                                         \n",
              "Covariance Type:            nonrobust                                         \n",
              "==============================================================================\n",
              "                 coef    std err          t      P>|t|      [0.025      0.975]\n",
              "------------------------------------------------------------------------------\n",
              "Intercept     -0.0034      0.038     -0.088      0.930      -0.079       0.072\n",
              "Open          -0.5892      0.018    -32.305      0.000      -0.625      -0.553\n",
              "High           0.8292      0.016     52.758      0.000       0.798       0.860\n",
              "Low            0.7596      0.015     51.289      0.000       0.731       0.789\n",
              "Compound       0.0348      0.027      1.272      0.204      -0.019       0.088\n",
              "Neg            0.5412      0.397      1.363      0.173      -0.238       1.320\n",
              "Neu            0.0259      0.048      0.537      0.591      -0.069       0.121\n",
              "Pos           -0.4950      0.343     -1.445      0.149      -1.167       0.177\n",
              "==============================================================================\n",
              "Omnibus:                      418.972   Durbin-Watson:                   1.994\n",
              "Prob(Omnibus):                  0.000   Jarque-Bera (JB):            10598.347\n",
              "Skew:                           0.507   Prob(JB):                         0.00\n",
              "Kurtosis:                      14.976   Cond. No.                     5.81e+03\n",
              "==============================================================================\n",
              "\n",
              "Warnings:\n",
              "[1] Standard Errors assume that the covariance matrix of the errors is correctly specified.\n",
              "[2] The condition number is large, 5.81e+03. This might indicate that there are\n",
              "strong multicollinearity or other numerical problems.\n",
              "\"\"\""
            ]
          },
          "metadata": {
            "tags": []
          },
          "execution_count": 13
        }
      ]
    },
    {
      "cell_type": "code",
      "metadata": {
        "id": "plPrvHY4PDz2",
        "colab_type": "code",
        "colab": {}
      },
      "source": [
        "# PREDECTING THE TEST SET BASED ON THE SIMPLE LINEAR REGRESSION MODEL CREATED BY THE TRAINING SET \n",
        "y_test, X_test = dmatrices('Adj_Close ~ Open + High + Low + Compound + Neg + Neu + Pos', test_set, return_type = 'dataframe')\n",
        "pred = linreg.predict(X_test)\n",
        "#pred = model.get_prediction(test_df)"
      ],
      "execution_count": 0,
      "outputs": []
    },
    {
      "cell_type": "code",
      "metadata": {
        "id": "stM1BNhPPF0m",
        "colab_type": "code",
        "outputId": "014f9476-3ade-4ae9-de9e-765014b502a3",
        "colab": {
          "base_uri": "https://localhost:8080/",
          "height": 269
        }
      },
      "source": [
        "# EVALUATING THE MODEL\n",
        "# AND PLOT THE ERRORS\n",
        "# Errors looks to be normaly distributed with few outliers\n",
        "errors = pred - test_set['Adj_Close']\n",
        "sns.distplot(errors,kde = False)\n",
        "plt.show()"
      ],
      "execution_count": 0,
      "outputs": [
        {
          "output_type": "display_data",
          "data": {
            "image/png": "[encoded data removed]",
            "text/plain": [
              "<Figure size 432x288 with 1 Axes>"
            ]
          },
          "metadata": {
            "tags": []
          }
        }
      ]
    },
    {
      "cell_type": "code",
      "metadata": {
        "id": "3ZSCn5diPTTx",
        "colab_type": "code",
        "outputId": "4fc02727-de24-47d7-8406-caafc1ec7405",
        "colab": {
          "base_uri": "https://localhost:8080/",
          "height": 51
        }
      },
      "source": [
        "# Calculating the root mean square errors \n",
        "# Calculating the percentage of cases with less than 5% error\n",
        "import math\n",
        "rmse = math.sqrt((errors **2).sum()/len(test_set))\n",
        "rel_change = errors.abs() / test_set['Adj_Close']\n",
        "pred05 = (rel_change < 0.05).sum() / len(test_set)\n",
        "print(\"RMSE:\", rmse)\n",
        "print(\"PRED(05):\", pred05)"
      ],
      "execution_count": 0,
      "outputs": [
        {
          "output_type": "stream",
          "text": [
            "RMSE: 0.38362762504603054\n",
            "PRED(05): 0.9986772486772487\n"
          ],
          "name": "stdout"
        }
      ]
    },
    {
      "cell_type": "code",
      "metadata": {
        "id": "-x7KQCmuQMS2",
        "colab_type": "code",
        "outputId": "27b32c10-ff0c-41b7-a9bc-ec7505cffb33",
        "colab": {
          "base_uri": "https://localhost:8080/",
          "height": 486
        }
      },
      "source": [
        "################################################################################\n",
        "# APPLE LINEAR TEST 2\n",
        "# TESTING DIFFRENT PREDECTION - KNN REGRESSION\n",
        "# REMOVE Sentiment analysis columns and see if it was doing better\n",
        "# SPLITING THE DATA INTO TRAINING SET AND TEST SET\n",
        "# THEN BUILDONG THE MODEL BASED ON THE TRAINING SET\n",
        "################################################################################\n",
        "#from patsy import dmatrices\n",
        "#from sklearn.model_selection import train_test_split\n",
        "#import statsmodels.discrete.discrete_model as sm\n",
        "#import statsmodels.api as sm1\n",
        "\n",
        "train_set, test_set = train_test_split(dfAPPL, train_size=0.7, random_state=1)\n",
        "\n",
        "y_train, X_train = dmatrices('Adj_Close ~ Open + High + Low', train_set, return_type = 'dataframe')\n",
        "linier = sm1.OLS(y_train , X_train)\n",
        "linreg = linier.fit()\n",
        "linreg.summary()"
      ],
      "execution_count": 0,
      "outputs": [
        {
          "output_type": "execute_result",
          "data": {
            "text/html": [
              "<table class=\"simpletable\">\n",
              "<caption>OLS Regression Results</caption>\n",
              "<tr>\n",
              "  <th>Dep. Variable:</th>        <td>Adj_Close</td>    <th>  R-squared:         </th> <td>   1.000</td> \n",
              "</tr>\n",
              "<tr>\n",
              "  <th>Model:</th>                   <td>OLS</td>       <th>  Adj. R-squared:    </th> <td>   1.000</td> \n",
              "</tr>\n",
              "<tr>\n",
              "  <th>Method:</th>             <td>Least Squares</td>  <th>  F-statistic:       </th> <td>4.668e+06</td>\n",
              "</tr>\n",
              "<tr>\n",
              "  <th>Date:</th>             <td>Mon, 08 Jul 2019</td> <th>  Prob (F-statistic):</th>  <td>  0.00</td>  \n",
              "</tr>\n",
              "<tr>\n",
              "  <th>Time:</th>                 <td>20:26:52</td>     <th>  Log-Likelihood:    </th> <td> -908.33</td> \n",
              "</tr>\n",
              "<tr>\n",
              "  <th>No. Observations:</th>      <td>  1761</td>      <th>  AIC:               </th> <td>   1825.</td> \n",
              "</tr>\n",
              "<tr>\n",
              "  <th>Df Residuals:</th>          <td>  1757</td>      <th>  BIC:               </th> <td>   1847.</td> \n",
              "</tr>\n",
              "<tr>\n",
              "  <th>Df Model:</th>              <td>     3</td>      <th>                     </th>     <td> </td>    \n",
              "</tr>\n",
              "<tr>\n",
              "  <th>Covariance Type:</th>      <td>nonrobust</td>    <th>                     </th>     <td> </td>    \n",
              "</tr>\n",
              "</table>\n",
              "<table class=\"simpletable\">\n",
              "<tr>\n",
              "      <td></td>         <th>coef</th>     <th>std err</th>      <th>t</th>      <th>P>|t|</th>  <th>[0.025</th>    <th>0.975]</th>  \n",
              "</tr>\n",
              "<tr>\n",
              "  <th>Intercept</th> <td>    0.0170</td> <td>    0.019</td> <td>    0.885</td> <td> 0.376</td> <td>   -0.021</td> <td>    0.055</td>\n",
              "</tr>\n",
              "<tr>\n",
              "  <th>Open</th>      <td>   -0.5889</td> <td>    0.018</td> <td>  -32.303</td> <td> 0.000</td> <td>   -0.625</td> <td>   -0.553</td>\n",
              "</tr>\n",
              "<tr>\n",
              "  <th>High</th>      <td>    0.8301</td> <td>    0.016</td> <td>   52.927</td> <td> 0.000</td> <td>    0.799</td> <td>    0.861</td>\n",
              "</tr>\n",
              "<tr>\n",
              "  <th>Low</th>       <td>    0.7584</td> <td>    0.015</td> <td>   51.344</td> <td> 0.000</td> <td>    0.729</td> <td>    0.787</td>\n",
              "</tr>\n",
              "</table>\n",
              "<table class=\"simpletable\">\n",
              "<tr>\n",
              "  <th>Omnibus:</th>       <td>421.673</td> <th>  Durbin-Watson:     </th> <td>   1.993</td> \n",
              "</tr>\n",
              "<tr>\n",
              "  <th>Prob(Omnibus):</th> <td> 0.000</td>  <th>  Jarque-Bera (JB):  </th> <td>10587.830</td>\n",
              "</tr>\n",
              "<tr>\n",
              "  <th>Skew:</th>          <td> 0.518</td>  <th>  Prob(JB):          </th> <td>    0.00</td> \n",
              "</tr>\n",
              "<tr>\n",
              "  <th>Kurtosis:</th>      <td>14.968</td>  <th>  Cond. No.          </th> <td>    283.</td> \n",
              "</tr>\n",
              "</table><br/><br/>Warnings:<br/>[1] Standard Errors assume that the covariance matrix of the errors is correctly specified."
            ],
            "text/plain": [
              "<class 'statsmodels.iolib.summary.Summary'>\n",
              "\"\"\"\n",
              "                            OLS Regression Results                            \n",
              "==============================================================================\n",
              "Dep. Variable:              Adj_Close   R-squared:                       1.000\n",
              "Model:                            OLS   Adj. R-squared:                  1.000\n",
              "Method:                 Least Squares   F-statistic:                 4.668e+06\n",
              "Date:                Mon, 08 Jul 2019   Prob (F-statistic):               0.00\n",
              "Time:                        20:26:52   Log-Likelihood:                -908.33\n",
              "No. Observations:                1761   AIC:                             1825.\n",
              "Df Residuals:                    1757   BIC:                             1847.\n",
              "Df Model:                           3                                         \n",
              "Covariance Type:            nonrobust                                         \n",
              "==============================================================================\n",
              "                 coef    std err          t      P>|t|      [0.025      0.975]\n",
              "------------------------------------------------------------------------------\n",
              "Intercept      0.0170      0.019      0.885      0.376      -0.021       0.055\n",
              "Open          -0.5889      0.018    -32.303      0.000      -0.625      -0.553\n",
              "High           0.8301      0.016     52.927      0.000       0.799       0.861\n",
              "Low            0.7584      0.015     51.344      0.000       0.729       0.787\n",
              "==============================================================================\n",
              "Omnibus:                      421.673   Durbin-Watson:                   1.993\n",
              "Prob(Omnibus):                  0.000   Jarque-Bera (JB):            10587.830\n",
              "Skew:                           0.518   Prob(JB):                         0.00\n",
              "Kurtosis:                      14.968   Cond. No.                         283.\n",
              "==============================================================================\n",
              "\n",
              "Warnings:\n",
              "[1] Standard Errors assume that the covariance matrix of the errors is correctly specified.\n",
              "\"\"\""
            ]
          },
          "metadata": {
            "tags": []
          },
          "execution_count": 9
        }
      ]
    },
    {
      "cell_type": "code",
      "metadata": {
        "id": "8wFXMXqIQbVh",
        "colab_type": "code",
        "colab": {}
      },
      "source": [
        "# PREDECTING THE TEST SET BASED ON THE SIMPLE LINEAR REGRESSION MODEL CREATED BY THE TRAINING SET \n",
        "y_test, X_test = dmatrices('Adj_Close ~ Open + High + Low', test_set, return_type = 'dataframe')\n",
        "pred = linreg.predict(X_test)\n",
        "#pred = model.get_prediction(test_df)"
      ],
      "execution_count": 0,
      "outputs": []
    },
    {
      "cell_type": "code",
      "metadata": {
        "id": "nGPvDtGKQkel",
        "colab_type": "code",
        "outputId": "8a9b6f13-769b-4910-f2a5-3c2d618c213f",
        "colab": {
          "base_uri": "https://localhost:8080/",
          "height": 269
        }
      },
      "source": [
        "# EVALUATING THE MODEL\n",
        "# AND PLOT THE ERRORS\n",
        "# Errors looks to be normaly distributed with few outliers\n",
        "errors = pred - test_set['Adj_Close']\n",
        "sns.distplot(errors,kde = False)\n",
        "plt.show()"
      ],
      "execution_count": 0,
      "outputs": [
        {
          "output_type": "display_data",
          "data": {
            "image/png": "[encoded data removed]",
            "text/plain": [
              "<Figure size 432x288 with 1 Axes>"
            ]
          },
          "metadata": {
            "tags": []
          }
        }
      ]
    },
    {
      "cell_type": "code",
      "metadata": {
        "id": "2CXKUfIXQrg6",
        "colab_type": "code",
        "outputId": "6970ead3-5205-4c65-d80f-f5895f1b495b",
        "colab": {
          "base_uri": "https://localhost:8080/",
          "height": 51
        }
      },
      "source": [
        "# Calculating the root mean square errors \n",
        "# Calculating the percentage of cases with less than 5% error\n",
        "import math\n",
        "rmse = math.sqrt((errors **2).sum()/len(test_set))\n",
        "rel_change = errors.abs() / test_set['Adj_Close']\n",
        "pred05 = (rel_change < 0.05).sum() / len(test_set)\n",
        "print(\"RMSE:\", rmse)\n",
        "print(\"PRED(05):\", pred05)"
      ],
      "execution_count": 0,
      "outputs": [
        {
          "output_type": "stream",
          "text": [
            "RMSE: 0.38314398866699784\n",
            "PRED(05): 0.9986772486772487\n"
          ],
          "name": "stdout"
        }
      ]
    },
    {
      "cell_type": "code",
      "metadata": {
        "id": "muIms3yKQuS7",
        "colab_type": "code",
        "colab": {}
      },
      "source": [
        "#KNN REGRESSION#KNN REGRESSION#KNN REGRESSION#KNN REGRESSION#KNN REGRESSION#KNN REGRESSION#KNN REGRESSION#KNN REGRESSION#KNN REGRESSION#KNN REGRESSION#KNN REGRESSION#KNN REGRESSION#KNN REGRESSION#KNN REGRESSION#KNN REGRESSION#\n",
        "#KNN REGRESSION#KNN REGRESSION#KNN REGRESSION#KNN REGRESSION#KNN REGRESSION#KNN REGRESSION#KNN REGRESSION#KNN REGRESSION#KNN REGRESSION#KNN REGRESSION#KNN REGRESSION#KNN REGRESSION#KNN REGRESSION#KNN REGRESSION#KNN REGRESSION#\n",
        "#KNN REGRESSION#KNN REGRESSION#KNN REGRESSION#KNN REGRESSION#KNN REGRESSION#KNN REGRESSION#KNN REGRESSION#KNN REGRESSION#KNN REGRESSION#KNN REGRESSION#KNN REGRESSION#KNN REGRESSION#KNN REGRESSION#KNN REGRESSION#KNN REGRESSION#\n",
        "#KNN REGRESSION#KNN REGRESSION#KNN REGRESSION#KNN REGRESSION#KNN REGRESSION#KNN REGRESSION#KNN REGRESSION#KNN REGRESSION#KNN REGRESSION#KNN REGRESSION#KNN REGRESSION#KNN REGRESSION#KNN REGRESSION#KNN REGRESSION#KNN REGRESSION#\n",
        "#KNN REGRESSION#KNN REGRESSION#KNN REGRESSION#KNN REGRESSION#KNN REGRESSION#KNN REGRESSION#KNN REGRESSION#KNN REGRESSION#KNN REGRESSION#KNN REGRESSION#KNN REGRESSION#KNN REGRESSION#KNN REGRESSION#KNN REGRESSION#KNN REGRESSION#"
      ],
      "execution_count": 0,
      "outputs": []
    },
    {
      "cell_type": "code",
      "metadata": {
        "id": "njLUjmmO_arb",
        "colab_type": "code",
        "outputId": "32d11776-c62f-42b0-f6dc-b146424aec6d",
        "colab": {
          "base_uri": "https://localhost:8080/",
          "height": 35
        }
      },
      "source": [
        "################################# K NEAREST NEIGHBOR REGRESSION MODEL #######################################\n",
        "################################################################################\n",
        "# TEST 1\n",
        "# TESTING DIFFRENT PREDECTION - KNN REGRESSION\n",
        "# TEST WITH BOTH FINANCIAL DATA AND Sentiment analysis columns \n",
        "# SPLITING THE DATA INTO TRAINING SET AND TEST SET\n",
        "# THEN BUILDONG THE MODEL BASED ON THE TRAINING SET\n",
        "# USED K = 7\n",
        "################################################################################\n",
        "from sklearn.model_selection import train_test_split\n",
        "from sklearn import neighbors\n",
        "from sklearn.metrics import mean_squared_error \n",
        "from math import sqrt\n",
        "import matplotlib.pyplot as plt\n",
        "%matplotlib inline\n",
        "\n",
        "dfMS1 = dfMS.drop('Date', axis=1)\n",
        "\n",
        "train_set, test_set = train_test_split(dfMS1, train_size=0.7, random_state=1)\n",
        "\n",
        "x_train = train_set.drop('Adj_Close', axis=1)\n",
        "y_train = train_set['Adj_Close']\n",
        "\n",
        "x_test = test_set.drop('Adj_Close', axis = 1)\n",
        "y_test = test_set['Adj_Close']\n",
        "\n",
        "##########################################3\n",
        "#from sklearn.preprocessing import MinMaxScaler\n",
        "#scaler = MinMaxScaler(feature_range=(0, 1))\n",
        "\n",
        "#x_train_scaled = scaler.fit_transform(x_train)\n",
        "#x_train = pd.DataFrame(x_train_scaled)\n",
        "\n",
        "#x_test_scaled = scaler.fit_transform(x_test)\n",
        "#x_test = pd.DataFrame(x_test_scaled)\n",
        "\n",
        "###########################################\n",
        "  \n",
        "model = neighbors.KNeighborsRegressor(n_neighbors = 7)\n",
        "\n",
        "model.fit(x_train, y_train)  #fit the model\n",
        "pred=model.predict(x_test) #make prediction on test set\n",
        "error = sqrt(mean_squared_error(y_test,pred)) #calculate rmse\n",
        "print('RMSE value for k= 7' , 'is:', error)"
      ],
      "execution_count": 0,
      "outputs": [
        {
          "output_type": "stream",
          "text": [
            "RMSE value for k= 7 is: 0.17939743201490005\n"
          ],
          "name": "stdout"
        }
      ]
    },
    {
      "cell_type": "code",
      "metadata": {
        "id": "8tmPyvQAzKrW",
        "colab_type": "code",
        "outputId": "5f71426f-2541-49fb-eafe-23e9e10efbba",
        "colab": {
          "base_uri": "https://localhost:8080/",
          "height": 286
        }
      },
      "source": [
        "errors = pred - y_test\n",
        "sns.distplot(errors,kde = False)\n",
        "plt.show()"
      ],
      "execution_count": 0,
      "outputs": [
        {
          "output_type": "display_data",
          "data": {
            "image/png": "[encoded data removed]",
            "text/plain": [
              "<Figure size 432x288 with 1 Axes>"
            ]
          },
          "metadata": {
            "tags": []
          }
        }
      ]
    },
    {
      "cell_type": "code",
      "metadata": {
        "id": "7Wbi-r89mBV1",
        "colab_type": "code",
        "outputId": "49b9c1ca-6626-4ce0-c5ba-49634fe43b4a",
        "colab": {
          "base_uri": "https://localhost:8080/",
          "height": 35
        }
      },
      "source": [
        "# Providing Test Data to the KNN Prediction Model to see its Prediction\n",
        "test_df = pd.DataFrame(columns=[\"Open\" ,\"High\",\"Low\",\"Close\",\"Compound\",\"Neg\",\"Neu\",\"Pos\"], data=[[28.82, 29.4, 28.8, 29.4, 0, 0,0,0]])\n",
        "mpg_pred = model.predict(test_df)\n",
        "mpg_pred\n"
      ],
      "execution_count": 0,
      "outputs": [
        {
          "output_type": "execute_result",
          "data": {
            "text/plain": [
              "array([29.28857143])"
            ]
          },
          "metadata": {
            "tags": []
          },
          "execution_count": 28
        }
      ]
    },
    {
      "cell_type": "code",
      "metadata": {
        "id": "wZwSCqJKuCKd",
        "colab_type": "code",
        "outputId": "1b6354ed-5d79-44df-f596-a30e3fc24a01",
        "colab": {
          "base_uri": "https://localhost:8080/",
          "height": 35
        }
      },
      "source": [
        "################################# K NEAREST NEIGHBOR REGRESSION MODEL #######################################\n",
        "################################################################################\n",
        "# TEST 2\n",
        "# TESTING DIFFRENT PREDECTION - KNN REGRESSION\n",
        "# Removed Close Variable and TEST WITH BOTH FINANCIAL DATA AND Sentiment analysis columns \n",
        "# SPLITING THE DATA INTO TRAINING SET AND TEST SET\n",
        "# THEN BUILDONG THE MODEL BASED ON THE TRAINING SET\n",
        "# USED K = 7\n",
        "################################################################################\n",
        "from sklearn.model_selection import train_test_split\n",
        "from sklearn import neighbors\n",
        "from sklearn.metrics import mean_squared_error \n",
        "from math import sqrt\n",
        "import matplotlib.pyplot as plt\n",
        "%matplotlib inline\n",
        "\n",
        "dfMS1 = dfMS.drop('Date', axis=1)\n",
        "dfMS1 = dfMS1.drop('Close', axis=1)\n",
        "train_set, test_set = train_test_split(dfMS1, train_size=0.7, random_state=1)\n",
        "\n",
        "x_train = train_set.drop('Adj_Close', axis=1)\n",
        "y_train = train_set['Adj_Close']\n",
        "\n",
        "x_test = test_set.drop('Adj_Close', axis = 1)\n",
        "y_test = test_set['Adj_Close']\n",
        "\n",
        "##########################################3\n",
        "#from sklearn.preprocessing import MinMaxScaler\n",
        "#scaler = MinMaxScaler(feature_range=(0, 1))\n",
        "\n",
        "#x_train_scaled = scaler.fit_transform(x_train)\n",
        "#x_train = pd.DataFrame(x_train_scaled)\n",
        "\n",
        "#x_test_scaled = scaler.fit_transform(x_test)\n",
        "#x_test = pd.DataFrame(x_test_scaled)\n",
        "\n",
        "###########################################\n",
        "  \n",
        "model = neighbors.KNeighborsRegressor(n_neighbors = 7)\n",
        "\n",
        "model.fit(x_train, y_train)  #fit the model\n",
        "pred=model.predict(x_test) #make prediction on test set\n",
        "error = sqrt(mean_squared_error(y_test,pred)) #calculate rmse\n",
        "print('RMSE value for k= 7' , 'is:', error)"
      ],
      "execution_count": 0,
      "outputs": [
        {
          "output_type": "stream",
          "text": [
            "RMSE value for k= 7 is: 0.2928785088900476\n"
          ],
          "name": "stdout"
        }
      ]
    },
    {
      "cell_type": "code",
      "metadata": {
        "id": "NIGWbbY-zgiR",
        "colab_type": "code",
        "outputId": "df60fb2c-7a47-47ff-b659-153c9c0cecfb",
        "colab": {
          "base_uri": "https://localhost:8080/",
          "height": 286
        }
      },
      "source": [
        "#errors = pred - test_set['Adj_Close']\n",
        "errors = pred - y_test\n",
        "sns.distplot(errors,kde = False)\n",
        "plt.show()"
      ],
      "execution_count": 0,
      "outputs": [
        {
          "output_type": "display_data",
          "data": {
            "image/png": "[encoded data removed]",
            "text/plain": [
              "<Figure size 432x288 with 1 Axes>"
            ]
          },
          "metadata": {
            "tags": []
          }
        }
      ]
    },
    {
      "cell_type": "code",
      "metadata": {
        "id": "fOfvVYX6vJlF",
        "colab_type": "code",
        "outputId": "592e3f39-52b2-4d32-de10-9fbb80b869fd",
        "colab": {
          "base_uri": "https://localhost:8080/",
          "height": 35
        }
      },
      "source": [
        "# Providing Test Data to the KNN Prediction Model to see its Prediction\n",
        "test_df = pd.DataFrame(columns=[\"Open\" ,\"High\",\"Low\",\"Compound\",\"Neg\",\"Neu\",\"Pos\"], data=[[28.82, 29.4, 28.8, 0, 0,0,0]])\n",
        "mpg_pred = model.predict(test_df)\n",
        "mpg_pred\n"
      ],
      "execution_count": 0,
      "outputs": [
        {
          "output_type": "execute_result",
          "data": {
            "text/plain": [
              "array([29.14714286])"
            ]
          },
          "metadata": {
            "tags": []
          },
          "execution_count": 30
        }
      ]
    },
    {
      "cell_type": "code",
      "metadata": {
        "id": "HBqR4soPval1",
        "colab_type": "code",
        "colab": {}
      },
      "source": [
        "# FOUND THAT WHEN REMOVING THE CLOSE COLUMN THE ACCURACY OF PREDECTION WAS DECREASED AND THE RMSE VALUE WAS INCREASED "
      ],
      "execution_count": 0,
      "outputs": []
    },
    {
      "cell_type": "code",
      "metadata": {
        "id": "qnZJGMzugSOi",
        "colab_type": "code",
        "colab": {}
      },
      "source": [
        "def normalize(x):   \n",
        "  return (x - min(x)) / (max(x) - min(x)) ;\n",
        "\n"
      ],
      "execution_count": 0,
      "outputs": []
    },
    {
      "cell_type": "code",
      "metadata": {
        "id": "dMlIKVovtahI",
        "colab_type": "code",
        "colab": {}
      },
      "source": [
        "#df[phone_col_name] = df.apply(clean_up, axis=1)\n",
        "normMS = dfMS[[\"Open\" ,\"High\",\"Low\", \"Adj_Close\"]]\n",
        "normMS = normMS.apply(normalize)\n",
        "sentMS = dfMS[[\"Compound\",\"Neg\",\"Neu\",\"Pos\"]]\n",
        "normMS = pd.concat([normMS,sentMS], axis=1, sort=False)\n",
        "#normMS.head\n"
      ],
      "execution_count": 0,
      "outputs": []
    },
    {
      "cell_type": "code",
      "metadata": {
        "id": "L689tmheEVf9",
        "colab_type": "code",
        "outputId": "52680eed-ff91-4ceb-d7e5-e55452098a38",
        "colab": {
          "base_uri": "https://localhost:8080/",
          "height": 35
        }
      },
      "source": [
        "################################# K NEAREST NEIGHBOR REGRESSION MODEL #######################################\n",
        "################################################################################\n",
        "# TEST 3\n",
        "# TESTING DIFFRENT PREDECTION - KNN REGRESSION\n",
        "# After Normalizing the data and Removeing Close Variable \n",
        "# and TEST WITH BOTH FINANCIAL DATA AND Sentiment analysis columns \n",
        "# SPLITING THE DATA INTO TRAINING SET AND TEST SET\n",
        "# THEN BUILDONG THE MODEL BASED ON THE TRAINING SET\n",
        "# USED K = 7\n",
        "################################################################################\n",
        "from sklearn.model_selection import train_test_split\n",
        "from sklearn import neighbors\n",
        "from sklearn.metrics import mean_squared_error \n",
        "from math import sqrt\n",
        "import matplotlib.pyplot as plt\n",
        "%matplotlib inline\n",
        "\n",
        "train_set, test_set = train_test_split(normMS, train_size=0.7, random_state=1)\n",
        "\n",
        "x_train = train_set.drop('Adj_Close', axis=1)\n",
        "y_train = train_set['Adj_Close']\n",
        "\n",
        "x_test = test_set.drop('Adj_Close', axis = 1)\n",
        "y_test = test_set['Adj_Close']\n",
        "\n",
        "model = neighbors.KNeighborsRegressor(n_neighbors = 7)\n",
        "\n",
        "model.fit(x_train, y_train)  #fit the model\n",
        "pred=model.predict(x_test) #make prediction on test set\n",
        "error = sqrt(mean_squared_error(y_test,pred)) #calculate rmse\n",
        "print('RMSE value for k= 7' , 'is:', error)"
      ],
      "execution_count": 0,
      "outputs": [
        {
          "output_type": "stream",
          "text": [
            "RMSE value for k= 7 is: 0.01421265378866703\n"
          ],
          "name": "stdout"
        }
      ]
    },
    {
      "cell_type": "code",
      "metadata": {
        "id": "p1-rNaGwwfjS",
        "colab_type": "code",
        "outputId": "0eb171db-0d7d-4295-c125-ea85e2dfca26",
        "colab": {
          "base_uri": "https://localhost:8080/",
          "height": 286
        }
      },
      "source": [
        "#errors = pred - test_set['Adj_Close']\n",
        "errors = pred - y_test\n",
        "sns.distplot(errors,kde = False)\n",
        "plt.show()"
      ],
      "execution_count": 0,
      "outputs": [
        {
          "output_type": "display_data",
          "data": {
            "image/png": "[encoded data removed]",
            "text/plain": [
              "<Figure size 432x288 with 1 Axes>"
            ]
          },
          "metadata": {
            "tags": []
          }
        }
      ]
    },
    {
      "cell_type": "code",
      "metadata": {
        "id": "9MILkyOPNVkW",
        "colab_type": "code",
        "outputId": "f1ea8b86-74a4-4bfe-da39-c1d506ce45f6",
        "colab": {
          "base_uri": "https://localhost:8080/",
          "height": 35
        }
      },
      "source": [
        "################################# K NEAREST NEIGHBOR REGRESSION MODEL #######################################\n",
        "################################################################################\n",
        "# TEST 4\n",
        "# TESTING DIFFRENT PREDECTION - KNN REGRESSION\n",
        "# After Normalizing the data and Removeing Close and Sentiment variables\n",
        "# and TEST WITH BOTH FINANCIAL DATA AND Sentiment analysis columns \n",
        "# SPLITING THE DATA INTO TRAINING SET AND TEST SET\n",
        "# THEN BUILDONG THE MODEL BASED ON THE TRAINING SET\n",
        "# USED K = 7\n",
        "################################################################################\n",
        "from sklearn.model_selection import train_test_split\n",
        "from sklearn import neighbors\n",
        "from sklearn.metrics import mean_squared_error \n",
        "from math import sqrt\n",
        "import matplotlib.pyplot as plt\n",
        "%matplotlib inline\n",
        "##########################################\n",
        "normMS = dfMS[[\"Open\" ,\"High\",\"Low\", \"Adj_Close\"]]\n",
        "normMS = normMS.apply(normalize)\n",
        "##########################################\n",
        "\n",
        "train_set, test_set = train_test_split(normMS, train_size=0.7, random_state=1)\n",
        "\n",
        "x_train = train_set.drop('Adj_Close', axis=1)\n",
        "y_train = train_set['Adj_Close']\n",
        "\n",
        "x_test = test_set.drop('Adj_Close', axis = 1)\n",
        "y_test = test_set['Adj_Close']\n",
        "\n",
        "model = neighbors.KNeighborsRegressor(n_neighbors = 7)\n",
        "\n",
        "model.fit(x_train, y_train)  #fit the model\n",
        "pred=model.predict(x_test) #make prediction on test set\n",
        "error = sqrt(mean_squared_error(y_test,pred)) #calculate rmse\n",
        "print('RMSE value for k= 7' , 'is:', error)"
      ],
      "execution_count": 0,
      "outputs": [
        {
          "output_type": "stream",
          "text": [
            "RMSE value for k= 7 is: 0.00578682882831184\n"
          ],
          "name": "stdout"
        }
      ]
    },
    {
      "cell_type": "code",
      "metadata": {
        "id": "mAwBqvnzOds4",
        "colab_type": "code",
        "outputId": "9a55b163-5b21-40ff-d019-a486b23f7ee0",
        "colab": {
          "base_uri": "https://localhost:8080/",
          "height": 286
        }
      },
      "source": [
        "#errors = pred - test_set['Adj_Close']\n",
        "errors = pred - y_test\n",
        "sns.distplot(errors,kde = False)\n",
        "plt.show()"
      ],
      "execution_count": 0,
      "outputs": [
        {
          "output_type": "display_data",
          "data": {
            "image/png": "[encoded data removed]",
            "text/plain": [
              "<Figure size 432x288 with 1 Axes>"
            ]
          },
          "metadata": {
            "tags": []
          }
        }
      ]
    },
    {
      "cell_type": "code",
      "metadata": {
        "id": "Y2VfiIUZKbEp",
        "colab_type": "code",
        "colab": {}
      },
      "source": [
        "# CONCLOSION MICROSOFT:\n",
        "# RMSE is a good measure of how accurately the model predicts the response\n",
        "# Lower values of RMSE indicate better fit. \n",
        "\n",
        "# WHEN NORMALIZING THE FINANCIAL DATA THE ROOT MEAN SQUARE ERROR \n",
        "# VALUE WAS DECREASED SIGNIFICANTLY \n",
        "# IT WAS EVEN BETTER THAN WHEN THE CLOSE COLUMN WAS THERE \n",
        "# BUT THE DATA WAS NOT NORMALIZED\n",
        "# Test 4 NORMALIZED WITHOUT CLOSE AND SENTIMENT COLUMNS RMSE = 0.00578682882831184\n",
        "# TEST 3 NORMALIZED WITHOUT CLOSE COLUMN RMSE = 0.01421265378866703\n",
        "# TEST 2 BEFORE NORMALIZATION AND CLOSE WAS REMOVED RMSE = 0.2928785088900476\n",
        "# TEST 1 BEFORE NORMALIZATION AND CLOSE COLUMN WAS THERE RMSE = 0.17939743201490005\n",
        "# ALSO IT SHOWS THAT THE SENTIMENT ANALYSIS COLUMN DID NOT MAKE A DIFFERENCE\n",
        "# IT EVEN SHOWS A BETTER ACURACY WHEN WAS REMOVED\n"
      ],
      "execution_count": 0,
      "outputs": []
    },
    {
      "cell_type": "code",
      "metadata": {
        "id": "NpP0LORxSddH",
        "colab_type": "code",
        "colab": {}
      },
      "source": [
        "######### APPLE KNN ###APPLE KNN ###APPLE KNN ###APPLE KNN ###APPLE KNN ###\n",
        "### APPLE KNN ###APPLE KNN ###APPLE KNN ###APPLE KNN ###APPLE KNN ###APPLE KNN ###\n",
        "### APPLE KNN ###APPLE KNN ###APPLE KNN ###APPLE KNN ###APPLE KNN ###APPLE KNN ###"
      ],
      "execution_count": 0,
      "outputs": []
    },
    {
      "cell_type": "code",
      "metadata": {
        "id": "GpStKFDvSiQY",
        "colab_type": "code",
        "colab": {}
      },
      "source": [
        "def normalize(x):   \n",
        "  return (x - min(x)) / (max(x) - min(x)) ;\n",
        "\n",
        "#df[phone_col_name] = df.apply(clean_up, axis=1)\n",
        "normAP = dfAPPL[[\"Open\" ,\"High\",\"Low\", \"Adj_Close\"]]\n",
        "normAP = normAP.apply(normalize)\n",
        "sentAP = dfAPPL[[\"Compound\",\"Neg\",\"Neu\",\"Pos\"]]\n",
        "normAP = pd.concat([normAP,sentAP], axis=1, sort=False)\n",
        "#normMS.head\n"
      ],
      "execution_count": 0,
      "outputs": []
    },
    {
      "cell_type": "code",
      "metadata": {
        "id": "Zur87WFPTSfS",
        "colab_type": "code",
        "colab": {
          "base_uri": "https://localhost:8080/",
          "height": 35
        },
        "outputId": "486d4feb-a27a-4bf2-dad5-c4322db040d3"
      },
      "source": [
        "################################# K NEAREST NEIGHBOR REGRESSION MODEL #######################################\n",
        "############################## APPLE KNN ########################################\n",
        "# TEST 1\n",
        "# TESTING DIFFRENT PREDECTION - KNN REGRESSION\n",
        "# After Normalizing the data and Removeing Close Variable \n",
        "# and TEST WITH BOTH FINANCIAL DATA AND Sentiment analysis columns \n",
        "# SPLITING THE DATA INTO TRAINING SET AND TEST SET\n",
        "# THEN BUILDONG THE MODEL BASED ON THE TRAINING SET\n",
        "# USED K = 7\n",
        "################################################################################\n",
        "from sklearn.model_selection import train_test_split\n",
        "from sklearn import neighbors\n",
        "from sklearn.metrics import mean_squared_error \n",
        "from math import sqrt\n",
        "import matplotlib.pyplot as plt\n",
        "%matplotlib inline\n",
        "\n",
        "train_set, test_set = train_test_split(normAP, train_size=0.7, random_state=1)\n",
        "\n",
        "x_train = train_set.drop('Adj_Close', axis=1)\n",
        "y_train = train_set['Adj_Close']\n",
        "\n",
        "x_test = test_set.drop('Adj_Close', axis = 1)\n",
        "y_test = test_set['Adj_Close']\n",
        "\n",
        "model = neighbors.KNeighborsRegressor(n_neighbors = 7)\n",
        "\n",
        "model.fit(x_train, y_train)  #fit the model\n",
        "pred=model.predict(x_test) #make prediction on test set\n",
        "error = sqrt(mean_squared_error(y_test,pred)) #calculate rmse\n",
        "print('RMSE value for k= 7' , 'is:', error)"
      ],
      "execution_count": 4,
      "outputs": [
        {
          "output_type": "stream",
          "text": [
            "RMSE value for k= 7 is: 0.011502125122544471\n"
          ],
          "name": "stdout"
        }
      ]
    },
    {
      "cell_type": "code",
      "metadata": {
        "id": "VqpYH7I-UGVd",
        "colab_type": "code",
        "colab": {
          "base_uri": "https://localhost:8080/",
          "height": 286
        },
        "outputId": "4ee4e4b3-9e26-4bd8-db73-78ff991d7c4a"
      },
      "source": [
        "#errors = pred - test_set['Adj_Close']\n",
        "errors = pred - y_test\n",
        "sns.distplot(errors,kde = False)\n",
        "plt.show()"
      ],
      "execution_count": 5,
      "outputs": [
        {
          "output_type": "display_data",
          "data": {
            "image/png": "[encoded data removed]",
            "text/plain": [
              "<Figure size 432x288 with 1 Axes>"
            ]
          },
          "metadata": {
            "tags": []
          }
        }
      ]
    },
    {
      "cell_type": "code",
      "metadata": {
        "id": "QdEY58aUUw62",
        "colab_type": "code",
        "colab": {
          "base_uri": "https://localhost:8080/",
          "height": 35
        },
        "outputId": "37a0b11f-c797-4d43-f31a-6cdd0f281cc4"
      },
      "source": [
        "################################# K NEAREST NEIGHBOR REGRESSION MODEL #######################################\n",
        "############################## APPLE KNN ########################################\n",
        "# TEST 2\n",
        "# TESTING DIFFRENT PREDECTION - KNN REGRESSION\n",
        "# After Normalizing the data and Removeing Close AND Sentiment Variables\n",
        "# and TEST WITH BOTH FINANCIAL DATA AND Sentiment analysis columns \n",
        "# SPLITING THE DATA INTO TRAINING SET AND TEST SET\n",
        "# THEN BUILDONG THE MODEL BASED ON THE TRAINING SET\n",
        "# USED K = 7\n",
        "################################################################################\n",
        "from sklearn.model_selection import train_test_split\n",
        "from sklearn import neighbors\n",
        "from sklearn.metrics import mean_squared_error \n",
        "from math import sqrt\n",
        "import matplotlib.pyplot as plt\n",
        "%matplotlib inline\n",
        "#####################################\n",
        "normAP = dfAPPL[[\"Open\" ,\"High\",\"Low\", \"Adj_Close\"]]\n",
        "normAP = normAP.apply(normalize)\n",
        "#####################################\n",
        "\n",
        "train_set, test_set = train_test_split(normAP, train_size=0.7, random_state=1)\n",
        "\n",
        "x_train = train_set.drop('Adj_Close', axis=1)\n",
        "y_train = train_set['Adj_Close']\n",
        "\n",
        "x_test = test_set.drop('Adj_Close', axis = 1)\n",
        "y_test = test_set['Adj_Close']\n",
        "\n",
        "model = neighbors.KNeighborsRegressor(n_neighbors = 7)\n",
        "\n",
        "model.fit(x_train, y_train)  #fit the model\n",
        "pred=model.predict(x_test) #make prediction on test set\n",
        "error = sqrt(mean_squared_error(y_test,pred)) #calculate rmse\n",
        "print('RMSE value for k= 7' , 'is:', error)"
      ],
      "execution_count": 6,
      "outputs": [
        {
          "output_type": "stream",
          "text": [
            "RMSE value for k= 7 is: 0.004450694048585692\n"
          ],
          "name": "stdout"
        }
      ]
    },
    {
      "cell_type": "code",
      "metadata": {
        "id": "xHHr43KFVJRw",
        "colab_type": "code",
        "colab": {
          "base_uri": "https://localhost:8080/",
          "height": 286
        },
        "outputId": "eae13eca-6923-42f3-e09e-9a25ffa37488"
      },
      "source": [
        "#errors = pred - test_set['Adj_Close']\n",
        "errors = pred - y_test\n",
        "sns.distplot(errors,kde = False)\n",
        "plt.show()"
      ],
      "execution_count": 7,
      "outputs": [
        {
          "output_type": "display_data",
          "data": {
            "image/png": "[encoded data removed]",
            "text/plain": [
              "<Figure size 432x288 with 1 Axes>"
            ]
          },
          "metadata": {
            "tags": []
          }
        }
      ]
    },
    {
      "cell_type": "code",
      "metadata": {
        "id": "AcT7tp-fV23b",
        "colab_type": "code",
        "colab": {}
      },
      "source": [
        "#Linear Regression\n",
        "#MS test 1 --> with close column\n",
        "#RMSE: 3.295012163886266e-14\n",
        "#\n",
        "#MS test 2 --> removed Close column\n",
        "#RMSE: 0.20341252937648835\n",
        "#\n",
        "#MS Test 3 --> Removed Sentiment\n",
        "#RMSE: 0.20308116766549456\n",
        "#-----------\n",
        "#Apple test 1 --> without close column\n",
        "#RMSE: 0.38362762504603054\n",
        "#\n",
        "#Apple test 2 --> without sentiment\n",
        "#RMSE: 0.38314398866699784\n",
        "#=======================================\n",
        "#KNN REGRESSION \n",
        "#################################\n",
        "#MS Test 1--> all columns incloding close\n",
        "#RMSE value for k= 7 is: 0.17939743201490005\n",
        "#\n",
        "#MS test 2 --> removed close column\n",
        "#RMSE value for k= 7 is: 0.2928785088900476\n",
        "#\n",
        "#MS test 3 --> All columns except close After NORMALIZATION\n",
        "#RMSE value for k= 7 is: 0.01421265378866703\n",
        "#\n",
        "#MS test 4 --> After Normalizing and Removeing Close and Sentiment variables\n",
        "#RMSE value for k= 7 is: 0.00578682882831184\n",
        "#\n",
        "#AP test 1 --> All columns except close After NORMALIZATION\n",
        "#RMSE value for k= 7 is: 0.011502125122544471\n",
        "#\n",
        "#AP test 2 --> After Normalizing and Removeing Close and Sentiment variables\n",
        "#RMSE value for k= 7 is: 0.004450694048585692"
      ],
      "execution_count": 0,
      "outputs": []
    }
  ]
}