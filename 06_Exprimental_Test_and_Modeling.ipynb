{
  "nbformat": 4,
  "nbformat_minor": 0,
  "metadata": {
    "colab": {
      "name": "Untitled5.ipynb",
      "version": "0.3.2",
      "provenance": [],
      "include_colab_link": true
    },
    "kernelspec": {
      "name": "python3",
      "display_name": "Python 3"
    }
  },
  "cells": [
    {
      "cell_type": "markdown",
      "metadata": {
        "id": "view-in-github",
        "colab_type": "text"
      },
      "source": [
        "<a href=\"https://colab.research.google.com/github/micattia/Capstone/blob/master/06_Exprimental_Test_and_Modeling.ipynb\" target=\"_parent\"><img src=\"https://colab.research.google.com/assets/colab-badge.svg\" alt=\"Open In Colab\"/></a>"
      ]
    },
    {
      "cell_type": "code",
      "metadata": {
        "id": "EHFqffosQo0n",
        "colab_type": "code",
        "colab": {}
      },
      "source": [
        "#load pandas component for data science\n",
        "import pandas as pd\n",
        "\n",
        "#load Apple data \n",
        "linkAP1 = 'https://raw.githubusercontent.com/micattia/Capstone_Data/master/AppleFinalData.csv'\n",
        "dfAPPL = pd.read_csv(linkAP1)\n",
        "linkAP2 = 'https://raw.githubusercontent.com/micattia/Capstone_Data/master/AppleNewsStock.csv'\n",
        "dfAPPLnews = pd.read_csv(linkAP2)\n",
        "\n",
        "#load Microsoft data\n",
        "linkMS1 = 'https://raw.githubusercontent.com/micattia/Capstone_Data/master/MicrosoftFinalData.csv'\n",
        "dfMS = pd.read_csv(linkMS1)\n",
        "linkMS2 = 'https://raw.githubusercontent.com/micattia/Capstone_Data/master/MicrosoftNewsStock.csv'\n",
        "dfMSnews = pd.read_csv(linkMS2)\n",
        "\n",
        "# Changing Some column names for the Microsoft main data frame to:\n",
        "# 1- removed the space from the Adj Close column, so that it would not give errors with coding\n",
        "# 2- standarised all columns to start with caps lock.\n",
        "\n",
        "dfMS = dfMS.rename(index=str, columns={\"Adj Close\": \"Adj_Close\", \"compound\": \"Compound\", \"neg\": \"Neg\", \"neu\": \"Neu\", \"pos\": \"Pos\"})\n",
        "\n",
        "# Changing Some column names for the Apple main data frame to:\n",
        "# 1- removed the space from the Adj Close column, so that it would not give errors with coding\n",
        "# 2- standarised all columns to start with caps lock.\n",
        "\n",
        "dfAPPL = dfAPPL.rename(index=str, columns={\"Adj Close\": \"Adj_Close\", \"compound\": \"Compound\", \"neg\": \"Neg\", \"neu\": \"Neu\", \"pos\": \"Pos\"})\n"
      ],
      "execution_count": 0,
      "outputs": []
    },
    {
      "cell_type": "code",
      "metadata": {
        "id": "DmfYH4buQu4A",
        "colab_type": "code",
        "colab": {}
      },
      "source": [
        "#loading required libraries \n",
        "#==========================\n",
        "from statsmodels.graphics.gofplots import qqplot\n",
        "import numpy as np\n",
        "import pandas as pd\n",
        "import matplotlib.pyplot as plt\n",
        "import seaborn as sns\n",
        "import plotly.plotly as py\n",
        "import plotly.figure_factory as ff\n",
        "%matplotlib inline\n",
        "\n",
        "plt.style.use('ggplot')"
      ],
      "execution_count": 0,
      "outputs": []
    },
    {
      "cell_type": "code",
      "metadata": {
        "id": "NvDEqui5Pg6Z",
        "colab_type": "code",
        "outputId": "6ce39ef6-5f04-4f89-a820-4ddcf5973778",
        "colab": {
          "base_uri": "https://localhost:8080/",
          "height": 182
        }
      },
      "source": [
        "# Building a simple linier regression model and show its generated linier formula\n",
        "# removed the Close variable from the dataset since it is the same value as the Adj_Close dependant variable\n",
        "# which will lead to always have 100% accuracy\n",
        "\n",
        "from statsmodels.formula.api import ols\n",
        "model = ols('Adj_Close ~ Open + High + Low + Compound + Neg + Neu + Pos', data=dfMS)\n",
        "model = model.fit()\n",
        "print(model.params)\n",
        "#print(model)"
      ],
      "execution_count": 0,
      "outputs": [
        {
          "output_type": "stream",
          "text": [
            "Intercept   -0.007568\n",
            "Open        -0.524203\n",
            "High         0.760597\n",
            "Low          0.764195\n",
            "Compound    -0.005027\n",
            "Neg         -0.018313\n",
            "Neu         -0.000197\n",
            "Pos         -0.017996\n",
            "dtype: float64\n"
          ],
          "name": "stdout"
        }
      ]
    },
    {
      "cell_type": "code",
      "metadata": {
        "id": "gXCWV3wAPpnG",
        "colab_type": "code",
        "outputId": "375f3dd8-a92e-4b8a-96a2-27a487db18ca",
        "colab": {
          "base_uri": "https://localhost:8080/",
          "height": 623
        }
      },
      "source": [
        "print(model.summary())"
      ],
      "execution_count": 0,
      "outputs": [
        {
          "output_type": "stream",
          "text": [
            "                            OLS Regression Results                            \n",
            "==============================================================================\n",
            "Dep. Variable:              Adj_Close   R-squared:                       1.000\n",
            "Model:                            OLS   Adj. R-squared:                  1.000\n",
            "Method:                 Least Squares   F-statistic:                 8.886e+05\n",
            "Date:                Sun, 07 Jul 2019   Prob (F-statistic):               0.00\n",
            "Time:                        23:11:45   Log-Likelihood:                 410.96\n",
            "No. Observations:                2517   AIC:                            -805.9\n",
            "Df Residuals:                    2509   BIC:                            -759.3\n",
            "Df Model:                           7                                         \n",
            "Covariance Type:            nonrobust                                         \n",
            "==============================================================================\n",
            "                 coef    std err          t      P>|t|      [0.025      0.975]\n",
            "------------------------------------------------------------------------------\n",
            "Intercept     -0.0076      0.015     -0.495      0.621      -0.038       0.022\n",
            "Open          -0.5242      0.016    -32.035      0.000      -0.556      -0.492\n",
            "High           0.7606      0.014     52.598      0.000       0.732       0.789\n",
            "Low            0.7642      0.014     54.180      0.000       0.737       0.792\n",
            "Compound      -0.0050      0.020     -0.252      0.801      -0.044       0.034\n",
            "Neg           -0.0183      0.137     -0.134      0.894      -0.287       0.250\n",
            "Neu           -0.0002      0.013     -0.016      0.988      -0.025       0.025\n",
            "Pos           -0.0180      0.121     -0.149      0.881      -0.254       0.218\n",
            "==============================================================================\n",
            "Omnibus:                      339.193   Durbin-Watson:                   2.117\n",
            "Prob(Omnibus):                  0.000   Jarque-Bera (JB):             3976.317\n",
            "Skew:                          -0.146   Prob(JB):                         0.00\n",
            "Kurtosis:                       9.151   Cond. No.                     2.43e+03\n",
            "==============================================================================\n",
            "\n",
            "Warnings:\n",
            "[1] Standard Errors assume that the covariance matrix of the errors is correctly specified.\n",
            "[2] The condition number is large, 2.43e+03. This might indicate that there are\n",
            "strong multicollinearity or other numerical problems.\n"
          ],
          "name": "stdout"
        }
      ]
    },
    {
      "cell_type": "code",
      "metadata": {
        "id": "Sv_JYjwdvJfA",
        "colab_type": "code",
        "outputId": "e5d346e1-0de8-489b-81a7-6ded01421139",
        "colab": {
          "base_uri": "https://localhost:8080/",
          "height": 293
        }
      },
      "source": [
        "# Using Anova test to compare between the two models where one have the financial data only \n",
        "# while the other have the sentiment analysis as well\n",
        "import statsmodels.api as sm\n",
        "from statsmodels.formula.api import ols\n",
        "from statsmodels.stats.anova import anova_lm\n",
        "\n",
        "model1 = ols('Adj_Close ~ Open + High + Low ', data=dfMS).fit()\n",
        "model2 = ols('Adj_Close ~ Open + High + Low + Compound + Neg + Neu + Pos', data=dfMS).fit()\n",
        "anova_result = anova_lm(model1, model2)\n",
        "print(anova_result)"
      ],
      "execution_count": 0,
      "outputs": [
        {
          "output_type": "stream",
          "text": [
            "   df_resid         ssr  df_diff  ss_diff         F    Pr(>F)\n",
            "0    2513.0  106.338547      0.0      NaN       NaN       NaN\n",
            "1    2509.0  106.314047      4.0   0.0245  0.144548  0.965438\n"
          ],
          "name": "stdout"
        },
        {
          "output_type": "stream",
          "text": [
            "/usr/local/lib/python3.6/dist-packages/scipy/stats/_distn_infrastructure.py:901: RuntimeWarning:\n",
            "\n",
            "invalid value encountered in greater\n",
            "\n",
            "/usr/local/lib/python3.6/dist-packages/scipy/stats/_distn_infrastructure.py:901: RuntimeWarning:\n",
            "\n",
            "invalid value encountered in less\n",
            "\n",
            "/usr/local/lib/python3.6/dist-packages/scipy/stats/_distn_infrastructure.py:1892: RuntimeWarning:\n",
            "\n",
            "invalid value encountered in less_equal\n",
            "\n"
          ],
          "name": "stderr"
        }
      ]
    },
    {
      "cell_type": "code",
      "metadata": {
        "id": "m1rnTZnC_RH4",
        "colab_type": "code",
        "colab": {}
      },
      "source": [
        "#Testing the Simple Linier Regression model and see its predective values\n",
        "# in this section we created the model and did predection using some data input by hand \n",
        "#model = ols('Adj_Close ~ Open + High + Low + Close + Compound + Neg + Neu + Pos', data=dfMS).fit()\n",
        "#test_df = pd.DataFrame(columns=[\"Open\" ,\"High\",\"Low\",\"Close\",\"Compound\",\"Neg\",\"Neu\",\"Pos\"], data=[[30.14, 30.23, 30.03, 30.13, 0.126, 0.048,0.868,0.084]])\n",
        "#mpg_pred = model.get_prediction(test_df)\n",
        "#mpg_pred.conf_int(alpha=0.05)"
      ],
      "execution_count": 0,
      "outputs": []
    },
    {
      "cell_type": "code",
      "metadata": {
        "id": "YC1hzIWrkbeQ",
        "colab_type": "code",
        "colab": {}
      },
      "source": [
        ""
      ],
      "execution_count": 0,
      "outputs": []
    },
    {
      "cell_type": "code",
      "metadata": {
        "id": "Oe2vs0qFjg4K",
        "colab_type": "code",
        "outputId": "997e8a63-7f62-4a29-877f-f7581b49577e",
        "colab": {
          "base_uri": "https://localhost:8080/",
          "height": 636
        }
      },
      "source": [
        "################################ 1- SIMPLE LINEAR REGRESSION MODELS ######################################################\n",
        "################################################################################\n",
        "# TEST 1\n",
        "# BUILDING FIRST PREDECTION MODEL - SIMPLE LINIER REGRESSION\n",
        "# TEST GIVE 100% ACURACY WITH THE CLOSE COLUMN, AS IT IS THE SAME AS ADJ_CLOSE VALUE\n",
        "# SPLITING THE DATA INTO TRAINING SET AND TEST SET\n",
        "# THEN BUILDONG THE MODEL BASED ON THE TRAINING SET\n",
        "################################################################################\n",
        "from patsy import dmatrices\n",
        "from sklearn.model_selection import train_test_split\n",
        "import statsmodels.discrete.discrete_model as sm\n",
        "import statsmodels.api as sm1\n",
        "\n",
        "train_set, test_set = train_test_split(dfMS, train_size=0.7, random_state=1)\n",
        "\n",
        "y_train, X_train = dmatrices('Adj_Close ~ Open + High + Low + Close + Compound + Neg + Neu + Pos', train_set, return_type = 'dataframe')\n",
        "linier = sm1.OLS(y_train , X_train)\n",
        "linreg = linier.fit()\n",
        "linreg.summary()\n"
      ],
      "execution_count": 0,
      "outputs": [
        {
          "output_type": "execute_result",
          "data": {
            "text/html": [
              "<table class=\"simpletable\">\n",
              "<caption>OLS Regression Results</caption>\n",
              "<tr>\n",
              "  <th>Dep. Variable:</th>        <td>Adj_Close</td>    <th>  R-squared:         </th>  <td>   1.000</td> \n",
              "</tr>\n",
              "<tr>\n",
              "  <th>Model:</th>                   <td>OLS</td>       <th>  Adj. R-squared:    </th>  <td>   1.000</td> \n",
              "</tr>\n",
              "<tr>\n",
              "  <th>Method:</th>             <td>Least Squares</td>  <th>  F-statistic:       </th>  <td>2.113e+31</td>\n",
              "</tr>\n",
              "<tr>\n",
              "  <th>Date:</th>             <td>Sun, 07 Jul 2019</td> <th>  Prob (F-statistic):</th>   <td>  0.00</td>  \n",
              "</tr>\n",
              "<tr>\n",
              "  <th>Time:</th>                 <td>23:12:22</td>     <th>  Log-Likelihood:    </th>  <td>  52172.</td> \n",
              "</tr>\n",
              "<tr>\n",
              "  <th>No. Observations:</th>      <td>  1761</td>      <th>  AIC:               </th> <td>-1.043e+05</td>\n",
              "</tr>\n",
              "<tr>\n",
              "  <th>Df Residuals:</th>          <td>  1752</td>      <th>  BIC:               </th> <td>-1.043e+05</td>\n",
              "</tr>\n",
              "<tr>\n",
              "  <th>Df Model:</th>              <td>     8</td>      <th>                     </th>      <td> </td>    \n",
              "</tr>\n",
              "<tr>\n",
              "  <th>Covariance Type:</th>      <td>nonrobust</td>    <th>                     </th>      <td> </td>    \n",
              "</tr>\n",
              "</table>\n",
              "<table class=\"simpletable\">\n",
              "<tr>\n",
              "      <td></td>         <th>coef</th>     <th>std err</th>      <th>t</th>      <th>P>|t|</th>  <th>[0.025</th>    <th>0.975]</th>  \n",
              "</tr>\n",
              "<tr>\n",
              "  <th>Intercept</th> <td>-1.057e-14</td> <td> 2.95e-15</td> <td>   -3.580</td> <td> 0.000</td> <td>-1.64e-14</td> <td>-4.78e-15</td>\n",
              "</tr>\n",
              "<tr>\n",
              "  <th>Open</th>      <td>-3.275e-15</td> <td> 3.69e-15</td> <td>   -0.887</td> <td> 0.375</td> <td>-1.05e-14</td> <td> 3.96e-15</td>\n",
              "</tr>\n",
              "<tr>\n",
              "  <th>High</th>      <td> 1.277e-15</td> <td> 3.99e-15</td> <td>    0.320</td> <td> 0.749</td> <td>-6.55e-15</td> <td> 9.11e-15</td>\n",
              "</tr>\n",
              "<tr>\n",
              "  <th>Low</th>       <td> 4.226e-15</td> <td> 3.94e-15</td> <td>    1.073</td> <td> 0.283</td> <td> -3.5e-15</td> <td> 1.19e-14</td>\n",
              "</tr>\n",
              "<tr>\n",
              "  <th>Close</th>     <td>    1.0000</td> <td>  3.8e-15</td> <td> 2.63e+14</td> <td> 0.000</td> <td>    1.000</td> <td>    1.000</td>\n",
              "</tr>\n",
              "<tr>\n",
              "  <th>Compound</th>  <td> 4.552e-15</td> <td> 3.87e-15</td> <td>    1.175</td> <td> 0.240</td> <td>-3.04e-15</td> <td> 1.21e-14</td>\n",
              "</tr>\n",
              "<tr>\n",
              "  <th>Neg</th>       <td> 3.209e-14</td> <td> 2.68e-14</td> <td>    1.196</td> <td> 0.232</td> <td>-2.05e-14</td> <td> 8.47e-14</td>\n",
              "</tr>\n",
              "<tr>\n",
              "  <th>Neu</th>       <td> -1.18e-15</td> <td> 2.42e-15</td> <td>   -0.488</td> <td> 0.626</td> <td>-5.92e-15</td> <td> 3.56e-15</td>\n",
              "</tr>\n",
              "<tr>\n",
              "  <th>Pos</th>       <td>-1.788e-14</td> <td> 2.33e-14</td> <td>   -0.768</td> <td> 0.443</td> <td>-6.36e-14</td> <td> 2.78e-14</td>\n",
              "</tr>\n",
              "</table>\n",
              "<table class=\"simpletable\">\n",
              "<tr>\n",
              "  <th>Omnibus:</th>       <td>172.856</td> <th>  Durbin-Watson:     </th> <td>   0.305</td>\n",
              "</tr>\n",
              "<tr>\n",
              "  <th>Prob(Omnibus):</th> <td> 0.000</td>  <th>  Jarque-Bera (JB):  </th> <td> 226.887</td>\n",
              "</tr>\n",
              "<tr>\n",
              "  <th>Skew:</th>          <td>-0.879</td>  <th>  Prob(JB):          </th> <td>5.40e-50</td>\n",
              "</tr>\n",
              "<tr>\n",
              "  <th>Kurtosis:</th>      <td> 2.997</td>  <th>  Cond. No.          </th> <td>2.86e+03</td>\n",
              "</tr>\n",
              "</table><br/><br/>Warnings:<br/>[1] Standard Errors assume that the covariance matrix of the errors is correctly specified.<br/>[2] The condition number is large, 2.86e+03. This might indicate that there are<br/>strong multicollinearity or other numerical problems."
            ],
            "text/plain": [
              "<class 'statsmodels.iolib.summary.Summary'>\n",
              "\"\"\"\n",
              "                            OLS Regression Results                            \n",
              "==============================================================================\n",
              "Dep. Variable:              Adj_Close   R-squared:                       1.000\n",
              "Model:                            OLS   Adj. R-squared:                  1.000\n",
              "Method:                 Least Squares   F-statistic:                 2.113e+31\n",
              "Date:                Sun, 07 Jul 2019   Prob (F-statistic):               0.00\n",
              "Time:                        23:12:22   Log-Likelihood:                 52172.\n",
              "No. Observations:                1761   AIC:                        -1.043e+05\n",
              "Df Residuals:                    1752   BIC:                        -1.043e+05\n",
              "Df Model:                           8                                         \n",
              "Covariance Type:            nonrobust                                         \n",
              "==============================================================================\n",
              "                 coef    std err          t      P>|t|      [0.025      0.975]\n",
              "------------------------------------------------------------------------------\n",
              "Intercept  -1.057e-14   2.95e-15     -3.580      0.000   -1.64e-14   -4.78e-15\n",
              "Open       -3.275e-15   3.69e-15     -0.887      0.375   -1.05e-14    3.96e-15\n",
              "High        1.277e-15   3.99e-15      0.320      0.749   -6.55e-15    9.11e-15\n",
              "Low         4.226e-15   3.94e-15      1.073      0.283    -3.5e-15    1.19e-14\n",
              "Close          1.0000    3.8e-15   2.63e+14      0.000       1.000       1.000\n",
              "Compound    4.552e-15   3.87e-15      1.175      0.240   -3.04e-15    1.21e-14\n",
              "Neg         3.209e-14   2.68e-14      1.196      0.232   -2.05e-14    8.47e-14\n",
              "Neu         -1.18e-15   2.42e-15     -0.488      0.626   -5.92e-15    3.56e-15\n",
              "Pos        -1.788e-14   2.33e-14     -0.768      0.443   -6.36e-14    2.78e-14\n",
              "==============================================================================\n",
              "Omnibus:                      172.856   Durbin-Watson:                   0.305\n",
              "Prob(Omnibus):                  0.000   Jarque-Bera (JB):              226.887\n",
              "Skew:                          -0.879   Prob(JB):                     5.40e-50\n",
              "Kurtosis:                       2.997   Cond. No.                     2.86e+03\n",
              "==============================================================================\n",
              "\n",
              "Warnings:\n",
              "[1] Standard Errors assume that the covariance matrix of the errors is correctly specified.\n",
              "[2] The condition number is large, 2.86e+03. This might indicate that there are\n",
              "strong multicollinearity or other numerical problems.\n",
              "\"\"\""
            ]
          },
          "metadata": {
            "tags": []
          },
          "execution_count": 7
        }
      ]
    },
    {
      "cell_type": "code",
      "metadata": {
        "id": "fV83yqctqhgx",
        "colab_type": "code",
        "colab": {}
      },
      "source": [
        "# PREDECTING THE TEST SET BASED ON THE SIMPLE LINEAR REGRESSION MODEL CREATED BY THE TRAINING SET \n",
        "y_test, X_test = dmatrices('Adj_Close ~ Open + High + Low + Close + Compound + Neg + Neu + Pos', test_set, return_type = 'dataframe')\n",
        "pred = linreg.predict(X_test)\n",
        "#pred = model.get_prediction(test_df)"
      ],
      "execution_count": 0,
      "outputs": []
    },
    {
      "cell_type": "code",
      "metadata": {
        "id": "1Bgtj67UzOII",
        "colab_type": "code",
        "outputId": "c17bd0f7-8900-4284-a725-3449b7de2fe5",
        "colab": {
          "base_uri": "https://localhost:8080/",
          "height": 282
        }
      },
      "source": [
        "# EVALUATING THE MODEL\n",
        "# AND PLOT THE ERRORS\n",
        "errors = pred - test_set['Adj_Close']\n",
        "sns.distplot(errors,kde = False)\n",
        "plt.show()"
      ],
      "execution_count": 0,
      "outputs": [
        {
          "output_type": "display_data",
          "data": {
            "image/png": "[encoded data removed]",
            "text/plain": [
              "<Figure size 432x288 with 1 Axes>"
            ]
          },
          "metadata": {
            "tags": []
          }
        }
      ]
    },
    {
      "cell_type": "code",
      "metadata": {
        "id": "OL46MwGYzVc5",
        "colab_type": "code",
        "outputId": "a003cd83-9901-4553-cbd0-5dac949bab39",
        "colab": {
          "base_uri": "https://localhost:8080/",
          "height": 54
        }
      },
      "source": [
        "# Calculating the root mean square errors \n",
        "# Calculating the percentage of cases with less than 5% error\n",
        "import math\n",
        "rmse = math.sqrt((errors **2).sum()/len(test_set))\n",
        "rel_change = errors.abs() / test_set['Adj_Close']\n",
        "pred05 = (rel_change < 0.05).sum() / len(test_set)\n",
        "print(\"RMSE:\", rmse)\n",
        "print(\"PRED(05):\", pred05)"
      ],
      "execution_count": 0,
      "outputs": [
        {
          "output_type": "stream",
          "text": [
            "RMSE: 3.295012163886266e-14\n",
            "PRED(05): 1.0\n"
          ],
          "name": "stdout"
        }
      ]
    },
    {
      "cell_type": "code",
      "metadata": {
        "id": "32dJaLqdi_Gv",
        "colab_type": "code",
        "outputId": "793c6cba-50e7-4767-b241-0202b28b9e62",
        "colab": {
          "base_uri": "https://localhost:8080/",
          "height": 615
        }
      },
      "source": [
        "################################################################################\n",
        "# TEST 2\n",
        "# TESTING DIFFRENT PREDECTION - SIMPLE LINIER REGRESSION\n",
        "# REMOVE CLOSE COLUMN AS IT IS THE SAME VALUE AS ADJ_CLOSE\n",
        "# TEST SHOWS WHEN REMOVING THE ACCURACY WAS DECREASED \n",
        "# SPLITING THE DATA INTO TRAINING SET AND TEST SET\n",
        "# THEN BUILDONG THE MODEL BASED ON THE TRAINING SET\n",
        "################################################################################\n",
        "#from patsy import dmatrices\n",
        "#from sklearn.model_selection import train_test_split\n",
        "#import statsmodels.discrete.discrete_model as sm\n",
        "#import statsmodels.api as sm1\n",
        "\n",
        "train_set, test_set = train_test_split(dfMS, train_size=0.7, random_state=1)\n",
        "\n",
        "y_train, X_train = dmatrices('Adj_Close ~ Open + High + Low + Compound + Neg + Neu + Pos', train_set, return_type = 'dataframe')\n",
        "linier = sm1.OLS(y_train , X_train)\n",
        "linreg = linier.fit()\n",
        "linreg.summary()\n"
      ],
      "execution_count": 0,
      "outputs": [
        {
          "output_type": "execute_result",
          "data": {
            "text/html": [
              "<table class=\"simpletable\">\n",
              "<caption>OLS Regression Results</caption>\n",
              "<tr>\n",
              "  <th>Dep. Variable:</th>        <td>Adj_Close</td>    <th>  R-squared:         </th> <td>   1.000</td> \n",
              "</tr>\n",
              "<tr>\n",
              "  <th>Model:</th>                   <td>OLS</td>       <th>  Adj. R-squared:    </th> <td>   1.000</td> \n",
              "</tr>\n",
              "<tr>\n",
              "  <th>Method:</th>             <td>Least Squares</td>  <th>  F-statistic:       </th> <td>6.119e+05</td>\n",
              "</tr>\n",
              "<tr>\n",
              "  <th>Date:</th>             <td>Sun, 07 Jul 2019</td> <th>  Prob (F-statistic):</th>  <td>  0.00</td>  \n",
              "</tr>\n",
              "<tr>\n",
              "  <th>Time:</th>                 <td>23:38:35</td>     <th>  Log-Likelihood:    </th> <td>  277.50</td> \n",
              "</tr>\n",
              "<tr>\n",
              "  <th>No. Observations:</th>      <td>  1761</td>      <th>  AIC:               </th> <td>  -539.0</td> \n",
              "</tr>\n",
              "<tr>\n",
              "  <th>Df Residuals:</th>          <td>  1753</td>      <th>  BIC:               </th> <td>  -495.2</td> \n",
              "</tr>\n",
              "<tr>\n",
              "  <th>Df Model:</th>              <td>     7</td>      <th>                     </th>     <td> </td>    \n",
              "</tr>\n",
              "<tr>\n",
              "  <th>Covariance Type:</th>      <td>nonrobust</td>    <th>                     </th>     <td> </td>    \n",
              "</tr>\n",
              "</table>\n",
              "<table class=\"simpletable\">\n",
              "<tr>\n",
              "      <td></td>         <th>coef</th>     <th>std err</th>      <th>t</th>      <th>P>|t|</th>  <th>[0.025</th>    <th>0.975]</th>  \n",
              "</tr>\n",
              "<tr>\n",
              "  <th>Intercept</th> <td>   -0.0217</td> <td>    0.019</td> <td>   -1.168</td> <td> 0.243</td> <td>   -0.058</td> <td>    0.015</td>\n",
              "</tr>\n",
              "<tr>\n",
              "  <th>Open</th>      <td>   -0.5077</td> <td>    0.020</td> <td>  -25.693</td> <td> 0.000</td> <td>   -0.546</td> <td>   -0.469</td>\n",
              "</tr>\n",
              "<tr>\n",
              "  <th>High</th>      <td>    0.7643</td> <td>    0.017</td> <td>   44.469</td> <td> 0.000</td> <td>    0.731</td> <td>    0.798</td>\n",
              "</tr>\n",
              "<tr>\n",
              "  <th>Low</th>       <td>    0.7443</td> <td>    0.017</td> <td>   43.292</td> <td> 0.000</td> <td>    0.711</td> <td>    0.778</td>\n",
              "</tr>\n",
              "<tr>\n",
              "  <th>Compound</th>  <td>   -0.0093</td> <td>    0.024</td> <td>   -0.381</td> <td> 0.703</td> <td>   -0.057</td> <td>    0.038</td>\n",
              "</tr>\n",
              "<tr>\n",
              "  <th>Neg</th>       <td>   -0.1510</td> <td>    0.168</td> <td>   -0.896</td> <td> 0.370</td> <td>   -0.481</td> <td>    0.180</td>\n",
              "</tr>\n",
              "<tr>\n",
              "  <th>Neu</th>       <td>    0.0056</td> <td>    0.015</td> <td>    0.367</td> <td> 0.714</td> <td>   -0.024</td> <td>    0.035</td>\n",
              "</tr>\n",
              "<tr>\n",
              "  <th>Pos</th>       <td>   -0.0086</td> <td>    0.146</td> <td>   -0.059</td> <td> 0.953</td> <td>   -0.295</td> <td>    0.278</td>\n",
              "</tr>\n",
              "</table>\n",
              "<table class=\"simpletable\">\n",
              "<tr>\n",
              "  <th>Omnibus:</th>       <td>220.868</td> <th>  Durbin-Watson:     </th> <td>   1.987</td>\n",
              "</tr>\n",
              "<tr>\n",
              "  <th>Prob(Omnibus):</th> <td> 0.000</td>  <th>  Jarque-Bera (JB):  </th> <td>2353.651</td>\n",
              "</tr>\n",
              "<tr>\n",
              "  <th>Skew:</th>          <td>-0.038</td>  <th>  Prob(JB):          </th> <td>    0.00</td>\n",
              "</tr>\n",
              "<tr>\n",
              "  <th>Kurtosis:</th>      <td> 8.663</td>  <th>  Cond. No.          </th> <td>2.48e+03</td>\n",
              "</tr>\n",
              "</table><br/><br/>Warnings:<br/>[1] Standard Errors assume that the covariance matrix of the errors is correctly specified.<br/>[2] The condition number is large, 2.48e+03. This might indicate that there are<br/>strong multicollinearity or other numerical problems."
            ],
            "text/plain": [
              "<class 'statsmodels.iolib.summary.Summary'>\n",
              "\"\"\"\n",
              "                            OLS Regression Results                            \n",
              "==============================================================================\n",
              "Dep. Variable:              Adj_Close   R-squared:                       1.000\n",
              "Model:                            OLS   Adj. R-squared:                  1.000\n",
              "Method:                 Least Squares   F-statistic:                 6.119e+05\n",
              "Date:                Sun, 07 Jul 2019   Prob (F-statistic):               0.00\n",
              "Time:                        23:38:35   Log-Likelihood:                 277.50\n",
              "No. Observations:                1761   AIC:                            -539.0\n",
              "Df Residuals:                    1753   BIC:                            -495.2\n",
              "Df Model:                           7                                         \n",
              "Covariance Type:            nonrobust                                         \n",
              "==============================================================================\n",
              "                 coef    std err          t      P>|t|      [0.025      0.975]\n",
              "------------------------------------------------------------------------------\n",
              "Intercept     -0.0217      0.019     -1.168      0.243      -0.058       0.015\n",
              "Open          -0.5077      0.020    -25.693      0.000      -0.546      -0.469\n",
              "High           0.7643      0.017     44.469      0.000       0.731       0.798\n",
              "Low            0.7443      0.017     43.292      0.000       0.711       0.778\n",
              "Compound      -0.0093      0.024     -0.381      0.703      -0.057       0.038\n",
              "Neg           -0.1510      0.168     -0.896      0.370      -0.481       0.180\n",
              "Neu            0.0056      0.015      0.367      0.714      -0.024       0.035\n",
              "Pos           -0.0086      0.146     -0.059      0.953      -0.295       0.278\n",
              "==============================================================================\n",
              "Omnibus:                      220.868   Durbin-Watson:                   1.987\n",
              "Prob(Omnibus):                  0.000   Jarque-Bera (JB):             2353.651\n",
              "Skew:                          -0.038   Prob(JB):                         0.00\n",
              "Kurtosis:                       8.663   Cond. No.                     2.48e+03\n",
              "==============================================================================\n",
              "\n",
              "Warnings:\n",
              "[1] Standard Errors assume that the covariance matrix of the errors is correctly specified.\n",
              "[2] The condition number is large, 2.48e+03. This might indicate that there are\n",
              "strong multicollinearity or other numerical problems.\n",
              "\"\"\""
            ]
          },
          "metadata": {
            "tags": []
          },
          "execution_count": 27
        }
      ]
    },
    {
      "cell_type": "code",
      "metadata": {
        "id": "xEbGJDA9jDN7",
        "colab_type": "code",
        "colab": {}
      },
      "source": [
        "# PREDECTING THE TEST SET BASED ON THE SIMPLE LINEAR REGRESSION MODEL CREATED BY THE TRAINING SET \n",
        "y_test, X_test = dmatrices('Adj_Close ~ Open + High + Low + Compound + Neg + Neu + Pos', test_set, return_type = 'dataframe')\n",
        "pred = linreg.predict(X_test)\n",
        "#pred = model.get_prediction(test_df)"
      ],
      "execution_count": 0,
      "outputs": []
    },
    {
      "cell_type": "code",
      "metadata": {
        "id": "GIcrl7mFkUV3",
        "colab_type": "code",
        "outputId": "7f7a0acb-746b-4a04-e1df-0c309ff92023",
        "colab": {
          "base_uri": "https://localhost:8080/",
          "height": 269
        }
      },
      "source": [
        "# EVALUATING THE MODEL\n",
        "# AND PLOT THE ERRORS\n",
        "# Errors looks to be normaly distributed with few outliers\n",
        "errors = pred - test_set['Adj_Close']\n",
        "sns.distplot(errors,kde = False)\n",
        "plt.show()"
      ],
      "execution_count": 0,
      "outputs": [
        {
          "output_type": "display_data",
          "data": {
            "image/png": "[encoded data removed]",
            "text/plain": [
              "<Figure size 432x288 with 1 Axes>"
            ]
          },
          "metadata": {
            "tags": []
          }
        }
      ]
    },
    {
      "cell_type": "code",
      "metadata": {
        "id": "72zKnTxNyUok",
        "colab_type": "code",
        "outputId": "8d0ebf76-a97c-4087-caae-521813ca0cb1",
        "colab": {
          "base_uri": "https://localhost:8080/",
          "height": 54
        }
      },
      "source": [
        "import math\n",
        "rmse = math.sqrt((errors **2).sum()/len(test_set))\n",
        "rel_change = errors.abs() / test_set['Adj_Close']\n",
        "pred05 = (rel_change < 0.05).sum() / len(test_set)\n",
        "print(\"RMSE:\", rmse)\n",
        "print(\"PRED(05):\", pred05)"
      ],
      "execution_count": 0,
      "outputs": [
        {
          "output_type": "stream",
          "text": [
            "RMSE: 0.20341252937648835\n",
            "PRED(05): 0.9986772486772487\n"
          ],
          "name": "stdout"
        }
      ]
    },
    {
      "cell_type": "code",
      "metadata": {
        "id": "yR75V18oz4In",
        "colab_type": "code",
        "colab": {}
      },
      "source": [
        "# THE SQUARE ERRORS AND PRED ACUARCY WAS BETTER WHEN THE CLOSE VARIABLE WAS THERE\n",
        "# WHEN REMOVED IT SHOWED MORE SQUARE ERROR AND LESS ACURACY BUT STILL THE ACUARY WAS HIGHT "
      ],
      "execution_count": 0,
      "outputs": []
    },
    {
      "cell_type": "code",
      "metadata": {
        "id": "NDqcy5iEwoAQ",
        "colab_type": "code",
        "outputId": "cbeb3ef6-cdd8-4e94-bb02-74e27deaab20",
        "colab": {
          "base_uri": "https://localhost:8080/",
          "height": 494
        }
      },
      "source": [
        "################################################################################\n",
        "# TEST 3\n",
        "# TESTING DIFFRENT PREDECTION - SIMPLE LINIER REGRESSION\n",
        "# REMOVE Sentiment analysis columns and see if it was doing better\n",
        "# SPLITING THE DATA INTO TRAINING SET AND TEST SET\n",
        "# THEN BUILDONG THE MODEL BASED ON THE TRAINING SET\n",
        "################################################################################\n",
        "#from patsy import dmatrices\n",
        "#from sklearn.model_selection import train_test_split\n",
        "#import statsmodels.discrete.discrete_model as sm\n",
        "#import statsmodels.api as sm1\n",
        "\n",
        "train_set, test_set = train_test_split(dfMS, train_size=0.7, random_state=1)\n",
        "\n",
        "y_train, X_train = dmatrices('Adj_Close ~ Open + High + Low', train_set, return_type = 'dataframe')\n",
        "linier = sm1.OLS(y_train , X_train)\n",
        "linreg = linier.fit()\n",
        "linreg.summary()\n"
      ],
      "execution_count": 0,
      "outputs": [
        {
          "output_type": "execute_result",
          "data": {
            "text/html": [
              "<table class=\"simpletable\">\n",
              "<caption>OLS Regression Results</caption>\n",
              "<tr>\n",
              "  <th>Dep. Variable:</th>        <td>Adj_Close</td>    <th>  R-squared:         </th> <td>   1.000</td> \n",
              "</tr>\n",
              "<tr>\n",
              "  <th>Model:</th>                   <td>OLS</td>       <th>  Adj. R-squared:    </th> <td>   1.000</td> \n",
              "</tr>\n",
              "<tr>\n",
              "  <th>Method:</th>             <td>Least Squares</td>  <th>  F-statistic:       </th> <td>1.430e+06</td>\n",
              "</tr>\n",
              "<tr>\n",
              "  <th>Date:</th>             <td>Sun, 07 Jul 2019</td> <th>  Prob (F-statistic):</th>  <td>  0.00</td>  \n",
              "</tr>\n",
              "<tr>\n",
              "  <th>Time:</th>                 <td>23:40:19</td>     <th>  Log-Likelihood:    </th> <td>  276.72</td> \n",
              "</tr>\n",
              "<tr>\n",
              "  <th>No. Observations:</th>      <td>  1761</td>      <th>  AIC:               </th> <td>  -545.4</td> \n",
              "</tr>\n",
              "<tr>\n",
              "  <th>Df Residuals:</th>          <td>  1757</td>      <th>  BIC:               </th> <td>  -523.5</td> \n",
              "</tr>\n",
              "<tr>\n",
              "  <th>Df Model:</th>              <td>     3</td>      <th>                     </th>     <td> </td>    \n",
              "</tr>\n",
              "<tr>\n",
              "  <th>Covariance Type:</th>      <td>nonrobust</td>    <th>                     </th>     <td> </td>    \n",
              "</tr>\n",
              "</table>\n",
              "<table class=\"simpletable\">\n",
              "<tr>\n",
              "      <td></td>         <th>coef</th>     <th>std err</th>      <th>t</th>      <th>P>|t|</th>  <th>[0.025</th>    <th>0.975]</th>  \n",
              "</tr>\n",
              "<tr>\n",
              "  <th>Intercept</th> <td>   -0.0249</td> <td>    0.018</td> <td>   -1.398</td> <td> 0.162</td> <td>   -0.060</td> <td>    0.010</td>\n",
              "</tr>\n",
              "<tr>\n",
              "  <th>Open</th>      <td>   -0.5085</td> <td>    0.020</td> <td>  -25.786</td> <td> 0.000</td> <td>   -0.547</td> <td>   -0.470</td>\n",
              "</tr>\n",
              "<tr>\n",
              "  <th>High</th>      <td>    0.7649</td> <td>    0.017</td> <td>   44.572</td> <td> 0.000</td> <td>    0.731</td> <td>    0.799</td>\n",
              "</tr>\n",
              "<tr>\n",
              "  <th>Low</th>       <td>    0.7444</td> <td>    0.017</td> <td>   43.445</td> <td> 0.000</td> <td>    0.711</td> <td>    0.778</td>\n",
              "</tr>\n",
              "</table>\n",
              "<table class=\"simpletable\">\n",
              "<tr>\n",
              "  <th>Omnibus:</th>       <td>221.182</td> <th>  Durbin-Watson:     </th> <td>   1.987</td>\n",
              "</tr>\n",
              "<tr>\n",
              "  <th>Prob(Omnibus):</th> <td> 0.000</td>  <th>  Jarque-Bera (JB):  </th> <td>2364.276</td>\n",
              "</tr>\n",
              "<tr>\n",
              "  <th>Skew:</th>          <td>-0.035</td>  <th>  Prob(JB):          </th> <td>    0.00</td>\n",
              "</tr>\n",
              "<tr>\n",
              "  <th>Kurtosis:</th>      <td> 8.676</td>  <th>  Cond. No.          </th> <td>    299.</td>\n",
              "</tr>\n",
              "</table><br/><br/>Warnings:<br/>[1] Standard Errors assume that the covariance matrix of the errors is correctly specified."
            ],
            "text/plain": [
              "<class 'statsmodels.iolib.summary.Summary'>\n",
              "\"\"\"\n",
              "                            OLS Regression Results                            \n",
              "==============================================================================\n",
              "Dep. Variable:              Adj_Close   R-squared:                       1.000\n",
              "Model:                            OLS   Adj. R-squared:                  1.000\n",
              "Method:                 Least Squares   F-statistic:                 1.430e+06\n",
              "Date:                Sun, 07 Jul 2019   Prob (F-statistic):               0.00\n",
              "Time:                        23:40:19   Log-Likelihood:                 276.72\n",
              "No. Observations:                1761   AIC:                            -545.4\n",
              "Df Residuals:                    1757   BIC:                            -523.5\n",
              "Df Model:                           3                                         \n",
              "Covariance Type:            nonrobust                                         \n",
              "==============================================================================\n",
              "                 coef    std err          t      P>|t|      [0.025      0.975]\n",
              "------------------------------------------------------------------------------\n",
              "Intercept     -0.0249      0.018     -1.398      0.162      -0.060       0.010\n",
              "Open          -0.5085      0.020    -25.786      0.000      -0.547      -0.470\n",
              "High           0.7649      0.017     44.572      0.000       0.731       0.799\n",
              "Low            0.7444      0.017     43.445      0.000       0.711       0.778\n",
              "==============================================================================\n",
              "Omnibus:                      221.182   Durbin-Watson:                   1.987\n",
              "Prob(Omnibus):                  0.000   Jarque-Bera (JB):             2364.276\n",
              "Skew:                          -0.035   Prob(JB):                         0.00\n",
              "Kurtosis:                       8.676   Cond. No.                         299.\n",
              "==============================================================================\n",
              "\n",
              "Warnings:\n",
              "[1] Standard Errors assume that the covariance matrix of the errors is correctly specified.\n",
              "\"\"\""
            ]
          },
          "metadata": {
            "tags": []
          },
          "execution_count": 36
        }
      ]
    },
    {
      "cell_type": "code",
      "metadata": {
        "id": "ghoJ9FhQxlkd",
        "colab_type": "code",
        "colab": {}
      },
      "source": [
        "# PREDECTING THE TEST SET BASED ON THE SIMPLE LINEAR REGRESSION MODEL CREATED BY THE TRAINING SET \n",
        "y_test, X_test = dmatrices('Adj_Close ~ Open + High + Low', test_set, return_type = 'dataframe')\n",
        "pred = linreg.predict(X_test)\n",
        "#pred = model.get_prediction(test_df)"
      ],
      "execution_count": 0,
      "outputs": []
    },
    {
      "cell_type": "code",
      "metadata": {
        "id": "2_lbN4PVxxsv",
        "colab_type": "code",
        "outputId": "9e321ebe-bb73-4280-d9fa-1fa40a695b90",
        "colab": {
          "base_uri": "https://localhost:8080/",
          "height": 269
        }
      },
      "source": [
        "# EVALUATING THE MODEL\n",
        "# AND PLOT THE ERRORS\n",
        "# Errors looks to be normaly distributed with few outliers\n",
        "errors = pred - test_set['Adj_Close']\n",
        "sns.distplot(errors,kde = False)\n",
        "plt.show()"
      ],
      "execution_count": 0,
      "outputs": [
        {
          "output_type": "display_data",
          "data": {
            "image/png": "[encoded data removed]",
            "text/plain": [
              "<Figure size 432x288 with 1 Axes>"
            ]
          },
          "metadata": {
            "tags": []
          }
        }
      ]
    },
    {
      "cell_type": "code",
      "metadata": {
        "id": "5es8r7OBx3VY",
        "colab_type": "code",
        "outputId": "869f67dd-ff5b-480a-bf82-4b23963fceaa",
        "colab": {
          "base_uri": "https://localhost:8080/",
          "height": 54
        }
      },
      "source": [
        "import math\n",
        "rmse = math.sqrt((errors **2).sum()/len(test_set))\n",
        "rel_change = errors.abs() / test_set['Adj_Close']\n",
        "pred05 = (rel_change < 0.05).sum() / len(test_set)\n",
        "print(\"RMSE:\", rmse)\n",
        "print(\"PRED(05):\", pred05)"
      ],
      "execution_count": 0,
      "outputs": [
        {
          "output_type": "stream",
          "text": [
            "RMSE: 0.20308116766549456\n",
            "PRED(05): 0.9986772486772487\n"
          ],
          "name": "stdout"
        }
      ]
    },
    {
      "cell_type": "code",
      "metadata": {
        "id": "QwcmpdeIz71V",
        "colab_type": "code",
        "colab": {}
      },
      "source": [
        "# TEST SHOWS THAR ACCURACY WAS NOT CHANGED WHEN REMOVING THE SENTIMENT ANALYSIS COLUMNS"
      ],
      "execution_count": 0,
      "outputs": []
    },
    {
      "cell_type": "code",
      "metadata": {
        "id": "njLUjmmO_arb",
        "colab_type": "code",
        "outputId": "adea65e0-336e-4d87-8962-461c3dd0052a",
        "colab": {
          "base_uri": "https://localhost:8080/",
          "height": 34
        }
      },
      "source": [
        "################################# K NEAREST NEIGHBOR REGRESSION MODEL #######################################\n",
        "################################################################################\n",
        "# TEST 1\n",
        "# TESTING DIFFRENT PREDECTION - KNN REGRESSION\n",
        "# TEST WITH BOTH FINANCIAL DATA AND Sentiment analysis columns \n",
        "# SPLITING THE DATA INTO TRAINING SET AND TEST SET\n",
        "# THEN BUILDONG THE MODEL BASED ON THE TRAINING SET\n",
        "################################################################################\n",
        "from sklearn.model_selection import train_test_split\n",
        "from sklearn import neighbors\n",
        "from sklearn.metrics import mean_squared_error \n",
        "from math import sqrt\n",
        "import matplotlib.pyplot as plt\n",
        "%matplotlib inline\n",
        "\n",
        "dfMS1 = dfMS.drop('Date', axis=1)\n",
        "\n",
        "train_set, test_set = train_test_split(dfMS1, train_size=0.7, random_state=1)\n",
        "\n",
        "x_train = train_set.drop('Adj_Close', axis=1)\n",
        "y_train = train_set['Adj_Close']\n",
        "\n",
        "x_test = test_set.drop('Adj_Close', axis = 1)\n",
        "y_test = test_set['Adj_Close']\n",
        "\n",
        "##########################################3\n",
        "#from sklearn.preprocessing import MinMaxScaler\n",
        "#scaler = MinMaxScaler(feature_range=(0, 1))\n",
        "\n",
        "#x_train_scaled = scaler.fit_transform(x_train)\n",
        "#x_train = pd.DataFrame(x_train_scaled)\n",
        "\n",
        "#x_test_scaled = scaler.fit_transform(x_test)\n",
        "#x_test = pd.DataFrame(x_test_scaled)\n",
        "\n",
        "###########################################\n",
        "  \n",
        "model = neighbors.KNeighborsRegressor(n_neighbors = 7)\n",
        "\n",
        "model.fit(x_train, y_train)  #fit the model\n",
        "pred=model.predict(x_test) #make prediction on test set\n",
        "error = sqrt(mean_squared_error(y_test,pred)) #calculate rmse\n",
        "print('RMSE value for k= 7' , 'is:', error)"
      ],
      "execution_count": 3,
      "outputs": [
        {
          "output_type": "stream",
          "text": [
            "RMSE value for k= 7 is: 0.17939743201490005\n"
          ],
          "name": "stdout"
        }
      ]
    },
    {
      "cell_type": "code",
      "metadata": {
        "id": "7Wbi-r89mBV1",
        "colab_type": "code",
        "colab": {
          "base_uri": "https://localhost:8080/",
          "height": 34
        },
        "outputId": "5969ea50-72c7-4777-e9de-67f0e0b82982"
      },
      "source": [
        "# Providing Test Data to the KNN Prediction Model to see its Prediction\n",
        "test_df = pd.DataFrame(columns=[\"Open\" ,\"High\",\"Low\",\"Close\",\"Compound\",\"Neg\",\"Neu\",\"Pos\"], data=[[28.82, 29.4, 28.8, 29.4, 0, 0,0,0]])\n",
        "mpg_pred = model.predict(test_df)\n",
        "mpg_pred\n"
      ],
      "execution_count": 7,
      "outputs": [
        {
          "output_type": "execute_result",
          "data": {
            "text/plain": [
              "array([29.28857143])"
            ]
          },
          "metadata": {
            "tags": []
          },
          "execution_count": 7
        }
      ]
    }
  ]
}